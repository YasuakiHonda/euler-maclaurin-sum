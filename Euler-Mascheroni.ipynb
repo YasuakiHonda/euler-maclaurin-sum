{
 "cells": [
  {
   "cell_type": "markdown",
   "metadata": {},
   "source": [
    "#Calcuration of Euler Mascheroni constant using\n",
    "#Euler Maclaurin Summation Formula package for Maxima CAS\n",
    "\n",
    "Written by Yasuaki dot Honda at gmail dot com\n",
    "\n",
    "Copyright 2020 Yasuaki Honda\n",
    "\n",
    "GPL2.0\n",
    "\n",
    "Application to Euler Mascheroni constant is taken from the following PDF:\n",
    "\n",
    "http://people.csail.mit.edu/kuat/courses/euler-maclaurin.pdf"
   ]
  },
  {
   "cell_type": "code",
   "execution_count": 1,
   "metadata": {},
   "outputs": [
    {
     "name": "stdout",
     "output_type": "stream",
     "text": [
      "To load \"drakma\":\n",
      "  Load 1 ASDF system:\n",
      "    drakma\n",
      "\n",
      "; Loading \"drakma\"\n",
      "\n",
      "To load \"maxima-asdf\":\n",
      "  Load 1 ASDF system:\n",
      "    maxima-asdf\n"
     ]
    },
    {
     "data": {
      "text/plain": [
       "(:MAXIMA-ASDF)"
      ]
     },
     "execution_count": 1,
     "metadata": {},
     "output_type": "execute_result"
    },
    {
     "name": "stdout",
     "output_type": "stream",
     "text": [
      "\n",
      "; Loading \"maxima-asdf\"\n",
      "\n"
     ]
    }
   ],
   "source": [
    ":lisp (progn (ql:quickload :drakma) (ql:quickload :maxima-asdf))"
   ]
  },
  {
   "cell_type": "code",
   "execution_count": 2,
   "metadata": {},
   "outputs": [
    {
     "data": {
      "text/latex": [
       "\\[\\tag{${\\it \\%o}_{2}$}\\left[ \\mbox{ /Users/yasube/quicklisp/dists/quicklisp/archives/euler-maclaurin-sum-master.gz } , \\mbox{ /Users/yasube/quicklisp/local-projects/YasuakiHonda-euler-maclaurin-sum-d65be7e/ } \\right] \\]"
      ],
      "text/plain": [
       "(%o2) [/Users/yasube/quicklisp/dists/quicklisp/archives/euler-maclaurin-sum-ma\\\n",
       "ster.gz, /Users/yasube/quicklisp/local-projects/YasuakiHonda-euler-maclaurin-s\\\n",
       "um-d65be7e/]"
      ],
      "text/x-maxima": [
       "[\"/Users/yasube/quicklisp/dists/quicklisp/archives/euler-maclaurin-sum-master.gz\",\n",
       " \"/Users/yasube/quicklisp/local-projects/YasuakiHonda-euler-maclaurin-sum-d65be7e/\"]"
      ]
     },
     "execution_count": 2,
     "metadata": {},
     "output_type": "execute_result"
    }
   ],
   "source": [
    "install_github(\"YasuakiHonda\",\"euler-maclaurin-sum\",\"master\");"
   ]
  },
  {
   "cell_type": "code",
   "execution_count": 3,
   "metadata": {},
   "outputs": [
    {
     "data": {
      "text/latex": [
       "\\[\\tag{${\\it \\%o}_{3}$}\\#<LOAD-SOURCE-OP >\\]"
      ],
      "text/plain": [
       "(%o3)                         #<LOAD-SOURCE-OP >"
      ],
      "text/x-maxima": [
       "\\#\\<LOAD\\-SOURCE\\-OP\\ \\>"
      ]
     },
     "execution_count": 3,
     "metadata": {},
     "output_type": "execute_result"
    }
   ],
   "source": [
    "asdf_load_source(\"euler-maclaurin-sum\");"
   ]
  },
  {
   "cell_type": "code",
   "execution_count": 4,
   "metadata": {},
   "outputs": [
    {
     "data": {
      "text/latex": [
       "\\[\\tag{${\\it \\%o}_{4}$}\\sum_{n=N}^{M}{f\\left(n\\right)}=\\sum_{k=1}^{K-1}{\\frac{\\left(-1\\right)^{k+1}\\,B_{k+1}\\,\\left(\\left.\\frac{d^{k}}{d\\,x^{k}}\\,f\\left(x\\right)\\right|_{x=M}-\\left.\\frac{d^{k}}{d\\,x^{k}}\\,f\\left(x\\right)\\right|_{x=N}\\right)}{\\left(k+1\\right)!}}+\\frac{\\left(-1\\right)^{K+1}\\,\\int_{N}^{M}{\\overline{B}_{K}\\left(x\\right)\\,\\left(\\frac{d^{K}}{d\\,x^{K}}\\,f\\left(x\\right)\\right)\\;dx}}{K!}+\\int_{N}^{M}{f\\left(x\\right)\\;dx}+\\frac{f\\left(N\\right)}{2}+\\frac{f\\left(M\\right)}{2}\\]"
      ],
      "text/plain": [
       "       M\n",
       "      ====\n",
       "      \\\n",
       "(%o4)  >    f(n) = \n",
       "      /\n",
       "      ====\n",
       "      n = N\n",
       "                                        !                  !\n",
       "                               k        !         k        !\n",
       "           k + 1              d         !        d         !\n",
       "      (- 1)      bern(k + 1) (--- (f(x))!      - --- (f(x))!     )\n",
       "K - 1                           k       !          k       !\n",
       "====                          dx        !        dx        !\n",
       "\\                                       !x = M             !x = N\n",
       " >    ------------------------------------------------------------\n",
       "/                               (k + 1)!\n",
       "====\n",
       "k = 1\n",
       "               M\n",
       "              /                            K\n",
       "        K + 1 [                           d\n",
       "   (- 1)      I  periodic_bernpoly(x, K) (--- (f(x))) dx\n",
       "              ]                             K               M\n",
       "              /                           dx               /\n",
       "               N                                           [            f(N)\n",
       " + ----------------------------------------------------- + I  f(x) dx + ----\n",
       "                            K!                             ]             2\n",
       "                                                           /\n",
       "                                                            N\n",
       "   f(M)\n",
       " + ----\n",
       "    2"
      ],
      "text/x-maxima": [
       "'sum(f(n),n,N,M) = 'sum(((-1)^(k+1)*bern(k+1)\n",
       "                                   *('at('diff(f(x),x,k),x = M)\n",
       "                                    -'at('diff(f(x),x,k),x = N)))\n",
       "                         /(k+1)!,k,1,K-1)\n",
       "                 +((-1)^(K+1)*'integrate(\n",
       "                              periodic_bernpoly(x,K)*'diff(f(x),x,K),x,N,M))\n",
       "                  /K!+'integrate(f(x),x,N,M)+f(N)/2+f(M)/2"
      ]
     },
     "execution_count": 4,
     "metadata": {},
     "output_type": "execute_result"
    }
   ],
   "source": [
    "ems;"
   ]
  },
  {
   "cell_type": "code",
   "execution_count": 5,
   "metadata": {},
   "outputs": [
    {
     "data": {
      "text/latex": [
       "\\[\\tag{${\\it \\%o}_{5}$}\\left[ M>1 \\right] \\]"
      ],
      "text/plain": [
       "(%o5)                               [M > 1]"
      ],
      "text/x-maxima": [
       "[M > 1]"
      ]
     },
     "execution_count": 5,
     "metadata": {},
     "output_type": "execute_result"
    },
    {
     "data": {
      "text/latex": [
       "\\[\\tag{${\\it \\%o}_{6}$}\\sum_{n=1}^{M}{\\frac{1}{n}}=\\int_{1}^{M}{\\frac{d}{d\\,x}\\,\\left(\\frac{1}{x}\\right)\\,\\overline{B}_{1}\\left(x\\right)\\;dx}+\\int_{1}^{M}{\\frac{1}{x}\\;dx}+\\frac{1}{2\\,M}+\\frac{1}{2}\\]"
      ],
      "text/plain": [
       "       M         M                                        M\n",
       "      ====      /                                        /\n",
       "      \\     1   [   d   1                                [  1       1    1\n",
       "(%o6)  >    - = I  (-- (-)) periodic_bernpoly(x, 1) dx + I  - dx + --- + -\n",
       "      /     n   ]   dx  x                                ]  x      2 M   2\n",
       "      ====      /                                        /\n",
       "      n = 1      1                                        1"
      ],
      "text/x-maxima": [
       "'sum(1/n,n,1,M) = 'integrate('diff(1/x,x,1)*periodic_bernpoly(x,1),x,1,M)\n",
       "                +'integrate(1/x,x,1,M)+1/(2*M)+1/2"
      ]
     },
     "execution_count": 5,
     "metadata": {},
     "output_type": "execute_result"
    }
   ],
   "source": [
    "assume(M>1);\n",
    "ems,f(x):=1/x,N:1,K:1;"
   ]
  },
  {
   "cell_type": "code",
   "execution_count": 6,
   "metadata": {},
   "outputs": [
    {
     "data": {
      "text/latex": [
       "\\[\\tag{${\\it \\%o}_{7}$}\\sum_{n=1}^{M}{\\frac{1}{n}}=-\\int_{1}^{M}{\\frac{\\overline{B}_{1}\\left(x\\right)}{x^2}\\;dx}+\\log M+\\frac{1}{2\\,M}+\\frac{1}{2}\\]"
      ],
      "text/plain": [
       "         M            M\n",
       "        ====         /\n",
       "        \\     1      [  periodic_bernpoly(x, 1)                 1    1\n",
       "(%o7)    >    - = (- I  ----------------------- dx) + log(M) + --- + -\n",
       "        /     n      ]             2                           2 M   2\n",
       "        ====         /            x\n",
       "        n = 1         1"
      ],
      "text/x-maxima": [
       "'sum(1/n,n,1,M) = (-'integrate(periodic_bernpoly(x,1)/x^2,x,1,M))\n",
       "                +log(M)+1/(2*M)+1/2"
      ]
     },
     "execution_count": 6,
     "metadata": {},
     "output_type": "execute_result"
    }
   ],
   "source": [
    "%,nouns;"
   ]
  },
  {
   "cell_type": "code",
   "execution_count": 7,
   "metadata": {},
   "outputs": [
    {
     "data": {
      "text/latex": [
       "\\[\\tag{${\\it \\%o}_{8}$}\\sum_{n=1}^{M}{\\frac{1}{n}}-\\log M=-\\int_{1}^{M}{\\frac{\\overline{B}_{1}\\left(x\\right)}{x^2}\\;dx}+\\frac{1}{2\\,M}+\\frac{1}{2}\\]"
      ],
      "text/plain": [
       "         M                     M\n",
       "        ====                  /\n",
       "        \\     1               [  periodic_bernpoly(x, 1)        1    1\n",
       "(%o8)    >    - - log(M) = (- I  ----------------------- dx) + --- + -\n",
       "        /     n               ]             2                  2 M   2\n",
       "        ====                  /            x\n",
       "        n = 1                  1"
      ],
      "text/x-maxima": [
       "'sum(1/n,n,1,M)-log(M) = (-'integrate(periodic_bernpoly(x,1)/x^2,x,1,M))\n",
       "                       +1/(2*M)+1/2"
      ]
     },
     "execution_count": 7,
     "metadata": {},
     "output_type": "execute_result"
    }
   ],
   "source": [
    "EuGamma:%-log(M);"
   ]
  },
  {
   "cell_type": "code",
   "execution_count": 8,
   "metadata": {},
   "outputs": [],
   "source": [
    "set_plot_option([svg_file, \"maxplot.svg\"])$"
   ]
  },
  {
   "cell_type": "code",
   "execution_count": 9,
   "metadata": {},
   "outputs": [
    {
     "data": {
      "image/svg+xml": [
       "<?xml version=\"1.0\" encoding=\"utf-8\"  standalone=\"no\"?>\n",
       "<svg \n",
       " width=\"600\" height=\"480\"\n",
       " viewBox=\"0 0 600 480\"\n",
       " xmlns=\"http://www.w3.org/2000/svg\"\n",
       " xmlns:xlink=\"http://www.w3.org/1999/xlink\"\n",
       ">\n",
       "\n",
       "<title>Gnuplot</title>\n",
       "<desc>Produced by GNUPLOT 5.0 patchlevel 6 </desc>\n",
       "\n",
       "<g id=\"gnuplot_canvas\">\n",
       "\n",
       "<rect x=\"0\" y=\"0\" width=\"600\" height=\"480\" fill=\"none\"/>\n",
       "<defs>\n",
       "\n",
       "\t<circle id='gpDot' r='0.5' stroke-width='0.5'/>\n",
       "\t<path id='gpPt0' stroke-width='0.190' stroke='currentColor' d='M-1,0 h2 M0,-1 v2'/>\n",
       "\t<path id='gpPt1' stroke-width='0.190' stroke='currentColor' d='M-1,-1 L1,1 M1,-1 L-1,1'/>\n",
       "\t<path id='gpPt2' stroke-width='0.190' stroke='currentColor' d='M-1,0 L1,0 M0,-1 L0,1 M-1,-1 L1,1 M-1,1 L1,-1'/>\n",
       "\t<rect id='gpPt3' stroke-width='0.190' stroke='currentColor' x='-1' y='-1' width='2' height='2'/>\n",
       "\t<rect id='gpPt4' stroke-width='0.190' stroke='currentColor' fill='currentColor' x='-1' y='-1' width='2' height='2'/>\n",
       "\t<circle id='gpPt5' stroke-width='0.190' stroke='currentColor' cx='0' cy='0' r='1'/>\n",
       "\t<use xlink:href='#gpPt5' id='gpPt6' fill='currentColor' stroke='none'/>\n",
       "\t<path id='gpPt7' stroke-width='0.190' stroke='currentColor' d='M0,-1.33 L-1.33,0.67 L1.33,0.67 z'/>\n",
       "\t<use xlink:href='#gpPt7' id='gpPt8' fill='currentColor' stroke='none'/>\n",
       "\t<use xlink:href='#gpPt7' id='gpPt9' stroke='currentColor' transform='rotate(180)'/>\n",
       "\t<use xlink:href='#gpPt9' id='gpPt10' fill='currentColor' stroke='none'/>\n",
       "\t<use xlink:href='#gpPt3' id='gpPt11' stroke='currentColor' transform='rotate(45)'/>\n",
       "\t<use xlink:href='#gpPt11' id='gpPt12' fill='currentColor' stroke='none'/>\n",
       "\t<path id='gpPt13' stroke-width='0.190' stroke='currentColor' d='M0,1.330 L1.265,0.411 L0.782,-1.067 L-0.782,-1.076 L-1.265,0.411 z'/>\n",
       "\t<use xlink:href='#gpPt13' id='gpPt14' fill='currentColor' stroke='none'/>\n",
       "\t<filter id='textbox' filterUnits='objectBoundingBox' x='0' y='0' height='1' width='1'>\n",
       "\t  <feFlood flood-color='white' flood-opacity='1' result='bgnd'/>\n",
       "\t  <feComposite in='SourceGraphic' in2='bgnd' operator='atop'/>\n",
       "\t</filter>\n",
       "\t<filter id='greybox' filterUnits='objectBoundingBox' x='0' y='0' height='1' width='1'>\n",
       "\t  <feFlood flood-color='lightgrey' flood-opacity='1' result='grey'/>\n",
       "\t  <feComposite in='SourceGraphic' in2='grey' operator='atop'/>\n",
       "\t</filter>\n",
       "</defs>\n",
       "<g fill=\"none\" color=\"white\" stroke=\"currentColor\" stroke-width=\"1.00\" stroke-linecap=\"butt\" stroke-linejoin=\"miter\">\n",
       "</g>\n",
       "<g fill=\"none\" color=\"gray\" stroke=\"currentColor\" stroke-width=\"1.00\" stroke-linecap=\"butt\" stroke-linejoin=\"miter\">\n",
       "\t<path stroke='black' stroke-dasharray='2,4'  d='M63.0,263.8 L570.8,263.8  '/></g>\n",
       "<g fill=\"none\" color=\"black\" stroke=\"currentColor\" stroke-width=\"1.00\" stroke-linecap=\"butt\" stroke-linejoin=\"miter\">\n",
       "\t<path stroke='black'  d='M63.0,25.7 L63.0,406.6 L570.8,406.6 L570.8,25.7 L63.0,25.7 Z  '/></g>\n",
       "<g fill=\"none\" color=\"black\" stroke=\"currentColor\" stroke-width=\"1.00\" stroke-linecap=\"butt\" stroke-linejoin=\"miter\">\n",
       "\t<g transform=\"translate(316.9,463.7)\" stroke=\"none\" fill=\"black\" font-family=\"Arial\" font-size=\"14.00\"  text-anchor=\"middle\">\n",
       "\t\t<text><tspan font-family=\"Arial\" >x</tspan></text>\n",
       "\t</g>\n",
       "</g>\n",
       "<g fill=\"none\" color=\"black\" stroke=\"currentColor\" stroke-width=\"1.00\" stroke-linecap=\"butt\" stroke-linejoin=\"miter\">\n",
       "</g>\n",
       "\t<g id=\"gnuplot_plot_1\" ><title>(-floor(x))+x-1/2</title>\n",
       "<g fill=\"none\" color=\"black\" stroke=\"currentColor\" stroke-width=\"1.00\" stroke-linecap=\"butt\" stroke-linejoin=\"miter\">\n",
       "\t<g transform=\"translate(492.4,51.3)\" stroke=\"none\" fill=\"black\" font-family=\"Arial\" font-size=\"14.00\"  text-anchor=\"end\">\n",
       "\t\t<text><tspan font-family=\"Arial\" >(-floor(x))+x-1/2</tspan></text>\n",
       "\t</g>\n",
       "</g>\n",
       "<g fill=\"none\" color=\"black\" stroke=\"currentColor\" stroke-width=\"1.00\" stroke-linecap=\"butt\" stroke-linejoin=\"miter\">\n",
       "\t<path stroke='rgb(  0,   0, 255)'  d='M502.1,46.7 L551.4,46.7 M63.0,382.8 L67.4,374.6 L71.8,366.4 L76.1,358.2 L80.5,350.0 L84.9,341.7\n",
       "\t\tL89.3,333.5 L93.6,325.3 L98.0,317.1 L102.4,308.9 L106.8,300.7 L111.2,292.5 L115.5,284.3 L119.9,276.1\n",
       "\t\tL124.3,267.9 L128.7,259.7 L133.0,251.4 L137.4,243.2 L141.8,235.0 L146.2,226.8 L150.6,218.6 L154.9,210.4\n",
       "\t\tL159.3,202.2 L163.7,194.0 L168.1,185.8 L172.4,177.6 L176.8,169.4 L181.2,161.1 L185.6,152.9 L186.1,151.9\n",
       "\t\tL186.7,150.9 L187.2,149.9 L187.8,148.8 L188.0,148.3 L188.3,147.8 L188.6,147.3 L188.9,146.8 L189.0,146.5\n",
       "\t\tL189.1,146.3 L189.3,146.0 L189.4,145.8 L189.5,145.5 L189.7,145.2 L189.8,145.0 L190.0,382.8 L191.0,380.7\n",
       "\t\tL192.1,378.7 L193.2,376.6 L194.3,374.6 L196.5,370.5 L198.7,366.4 L200.9,362.3 L203.1,358.2 L207.5,350.0\n",
       "\t\tL211.8,341.7 L216.2,333.5 L220.6,325.3 L225.0,317.1 L229.3,308.9 L233.7,300.7 L238.1,292.5 L242.5,284.3\n",
       "\t\tL246.9,276.1 L251.2,267.9 L255.6,259.7 L260.0,251.4 L264.4,243.2 L268.7,235.0 L273.1,226.8 L277.5,218.6\n",
       "\t\tL281.9,210.4 L286.3,202.2 L290.6,194.0 L295.0,185.8 L299.4,177.6 L303.8,169.4 L308.1,161.1 L309.2,159.1\n",
       "\t\tL310.3,157.0 L311.4,155.0 L312.5,152.9 L313.1,151.9 L313.6,150.9 L314.2,149.9 L314.7,148.8 L315.0,148.3\n",
       "\t\tL315.3,147.8 L315.5,147.3 L315.8,146.8 L315.9,146.5 L316.1,146.3 L316.2,146.0 L316.4,145.8 L316.5,145.5\n",
       "\t\tL316.6,145.2 L316.8,145.0 L316.9,382.8 L319.1,378.7 L321.3,374.6 L323.5,370.5 L325.7,366.4 L330.0,358.2\n",
       "\t\tL334.4,350.0 L338.8,341.7 L343.2,333.5 L347.5,325.3 L351.9,317.1 L356.3,308.9 L360.7,300.7 L365.1,292.5\n",
       "\t\tL369.4,284.3 L373.8,276.1 L378.2,267.9 L382.6,259.7 L386.9,251.4 L391.3,243.2 L395.7,235.0 L400.1,226.8\n",
       "\t\tL404.5,218.6 L408.8,210.4 L413.2,202.2 L417.6,194.0 L422.0,185.8 L426.3,177.6 L430.7,169.4 L432.9,165.3\n",
       "\t\tL435.1,161.1 L437.3,157.0 L439.5,152.9 L440.0,151.9 L440.6,150.9 L441.1,149.9 L441.7,148.8 L441.9,148.3\n",
       "\t\tL442.2,147.8 L442.5,147.3 L442.8,146.8 L442.9,146.5 L443.0,146.3 L443.2,146.0 L443.3,145.8 L443.4,145.5\n",
       "\t\tL443.6,145.2 L443.7,145.0 L443.9,382.8 L444.9,380.7 L446.0,378.7 L447.1,376.6 L448.2,374.6 L452.6,366.4\n",
       "\t\tL457.0,358.2 L461.4,350.0 L465.7,341.7 L470.1,333.5 L474.5,325.3 L478.9,317.1 L483.2,308.9 L487.6,300.7\n",
       "\t\tL492.0,292.5 L496.4,284.3 L500.8,276.1 L505.1,267.9 L509.5,259.7 L513.9,251.4 L518.3,243.2 L522.6,235.0\n",
       "\t\tL527.0,226.8 L531.4,218.6 L535.8,210.4 L540.2,202.2 L544.5,194.0 L548.9,185.8 L553.3,177.6 L555.5,173.5\n",
       "\t\tL557.7,169.4 L559.9,165.3 L562.0,161.1 L563.1,159.1 L564.2,157.0 L565.3,155.0 L566.4,152.9 L567.0,151.9\n",
       "\t\tL567.5,150.9 L568.1,149.9 L568.6,148.8 L568.9,148.3 L569.2,147.8 L569.4,147.3 L569.7,146.8 L569.8,146.5\n",
       "\t\tL570.0,146.3 L570.1,146.0 L570.3,145.8 L570.4,145.5 L570.5,145.2 L570.7,145.0 L570.8,382.8  '/></g>\n",
       "\t</g>\n",
       "\t<g id=\"gnuplot_plot_2\" ><title>((-floor(x))+x-1/2)/x2</title>\n",
       "<g fill=\"none\" color=\"black\" stroke=\"currentColor\" stroke-width=\"1.00\" stroke-linecap=\"butt\" stroke-linejoin=\"miter\">\n",
       "\t<g transform=\"translate(492.4,72.3)\" stroke=\"none\" fill=\"black\" font-family=\"Arial\" font-size=\"14.00\"  text-anchor=\"end\">\n",
       "\t\t<text><tspan font-family=\"Arial\" >((-floor(x))+x-1/2)/x</tspan><tspan font-family=\"Arial\"  font-size=\"11.2\" dy=\"-7.00px\">2</tspan><tspan font-size=\"14.0\" dy=\"7.00\"></tspan></text>\n",
       "\t</g>\n",
       "</g>\n",
       "<g fill=\"none\" color=\"black\" stroke=\"currentColor\" stroke-width=\"1.00\" stroke-linecap=\"butt\" stroke-linejoin=\"miter\">\n",
       "\t<path stroke='rgb(255,   0,   0)'  d='M502.1,67.7 L551.4,67.7 M63.0,382.8 L64.1,378.8 L65.2,374.8 L66.3,371.0 L67.4,367.3 L68.5,363.7\n",
       "\t\tL69.6,360.2 L70.7,356.9 L71.8,353.6 L72.8,350.4 L73.9,347.3 L75.0,344.2 L76.1,341.3 L77.2,338.4\n",
       "\t\tL78.3,335.7 L79.4,333.0 L80.5,330.3 L81.6,327.8 L82.7,325.3 L83.8,322.9 L84.9,320.5 L86.0,318.2\n",
       "\t\tL87.1,316.0 L88.2,313.8 L89.3,311.7 L90.4,309.6 L91.5,307.6 L92.5,305.6 L93.6,303.7 L94.7,301.9\n",
       "\t\tL95.8,300.0 L96.9,298.3 L98.0,296.5 L99.1,294.9 L100.2,293.2 L101.3,291.6 L102.4,290.1 L103.5,288.5\n",
       "\t\tL104.6,287.1 L105.7,285.6 L106.8,284.2 L107.9,282.8 L109.0,281.5 L110.1,280.1 L111.2,278.9 L112.2,277.6\n",
       "\t\tL113.3,276.4 L114.4,275.2 L115.5,274.0 L116.6,272.9 L117.7,271.8 L118.8,270.7 L119.9,269.6 L121.0,268.6\n",
       "\t\tL122.1,267.6 L123.2,266.6 L124.3,265.6 L125.4,264.7 L126.5,263.8 L127.6,262.9 L128.7,262.0 L129.8,261.1\n",
       "\t\tL130.9,260.3 L131.9,259.5 L133.0,258.6 L134.1,257.9 L135.2,257.1 L136.3,256.3 L137.4,255.6 L138.5,254.9\n",
       "\t\tL139.6,254.2 L140.7,253.5 L141.8,252.8 L142.9,252.2 L144.0,251.5 L145.1,250.9 L146.2,250.3 L147.3,249.7\n",
       "\t\tL148.4,249.1 L149.5,248.5 L150.6,247.9 L151.6,247.4 L152.7,246.9 L153.8,246.3 L154.9,245.8 L156.0,245.3\n",
       "\t\tL157.1,244.8 L158.2,244.3 L159.3,243.9 L160.4,243.4 L161.5,242.9 L162.6,242.5 L163.7,242.1 L164.8,241.6\n",
       "\t\tL165.9,241.2 L167.0,240.8 L168.1,240.4 L169.2,240.0 L170.3,239.6 L171.3,239.3 L172.4,238.9 L173.5,238.5\n",
       "\t\tL174.6,238.2 L175.7,237.9 L176.8,237.5 L177.9,237.2 L179.0,236.9 L180.1,236.6 L181.2,236.2 L182.3,235.9\n",
       "\t\tL183.4,235.6 L184.5,235.4 L185.6,235.1 L186.1,234.9 L186.7,234.8 L187.2,234.7 L187.8,234.5 L188.0,234.5\n",
       "\t\tL188.3,234.4 L188.6,234.3 L188.9,234.3 L189.0,234.2 L189.1,234.2 L189.3,234.2 L189.4,234.1 L189.5,234.1\n",
       "\t\tL189.7,234.1 L189.8,234.0 L190.0,293.5 L191.0,292.8 L192.1,292.0 L193.2,291.3 L194.3,290.5 L196.5,289.1\n",
       "\t\tL198.7,287.7 L200.9,286.4 L203.1,285.1 L205.3,283.8 L207.5,282.6 L209.6,281.4 L211.8,280.3 L214.0,279.2\n",
       "\t\tL216.2,278.1 L218.4,277.0 L220.6,276.0 L222.8,275.0 L225.0,274.1 L227.2,273.1 L229.3,272.2 L231.5,271.3\n",
       "\t\tL233.7,270.5 L235.9,269.6 L238.1,268.8 L240.3,268.1 L242.5,267.3 L244.7,266.5 L246.9,265.8 L249.0,265.1\n",
       "\t\tL251.2,264.4 L253.4,263.8 L255.6,263.1 L257.8,262.5 L260.0,261.9 L262.2,261.3 L264.4,260.7 L266.6,260.1\n",
       "\t\tL268.7,259.6 L270.9,259.0 L273.1,258.5 L275.3,258.0 L277.5,257.5 L279.7,257.0 L281.9,256.6 L284.1,256.1\n",
       "\t\tL286.3,255.7 L288.4,255.2 L290.6,254.8 L292.8,254.4 L295.0,254.0 L297.2,253.6 L299.4,253.2 L301.6,252.9\n",
       "\t\tL303.8,252.5 L306.0,252.2 L308.1,251.8 L309.2,251.7 L310.3,251.5 L311.4,251.3 L312.5,251.2 L313.1,251.1\n",
       "\t\tL313.6,251.0 L314.2,250.9 L314.7,250.8 L315.0,250.8 L315.3,250.8 L315.5,250.7 L315.8,250.7 L315.9,250.7\n",
       "\t\tL316.1,250.7 L316.2,250.6 L316.4,250.6 L316.5,250.6 L316.6,250.6 L316.8,250.6 L316.9,277.0 L319.1,276.4\n",
       "\t\tL321.3,275.8 L323.5,275.2 L325.7,274.7 L327.8,274.1 L330.0,273.6 L332.2,273.0 L334.4,272.5 L336.6,272.0\n",
       "\t\tL338.8,271.5 L341.0,271.0 L343.2,270.5 L345.4,270.1 L347.5,269.6 L349.7,269.2 L351.9,268.7 L354.1,268.3\n",
       "\t\tL356.3,267.9 L358.5,267.5 L360.7,267.1 L362.9,266.7 L365.1,266.3 L367.2,265.9 L369.4,265.5 L371.6,265.2\n",
       "\t\tL373.8,264.8 L376.0,264.4 L378.2,264.1 L380.4,263.8 L382.6,263.4 L384.8,263.1 L386.9,262.8 L389.1,262.5\n",
       "\t\tL391.3,262.2 L393.5,261.9 L395.7,261.6 L397.9,261.3 L400.1,261.0 L402.3,260.7 L404.5,260.4 L406.6,260.2\n",
       "\t\tL408.8,259.9 L411.0,259.7 L413.2,259.4 L415.4,259.2 L417.6,258.9 L419.8,258.7 L422.0,258.4 L424.2,258.2\n",
       "\t\tL426.3,258.0 L428.5,257.8 L430.7,257.5 L432.9,257.3 L435.1,257.1 L437.3,256.9 L439.5,256.7 L440.0,256.7\n",
       "\t\tL440.6,256.6 L441.1,256.6 L441.7,256.5 L441.9,256.5 L442.2,256.5 L442.5,256.4 L442.8,256.4 L442.9,256.4\n",
       "\t\tL443.0,256.4 L443.2,256.4 L443.3,256.4 L443.4,256.4 L443.6,256.3 L443.7,256.3 L443.9,271.2 L444.9,271.0\n",
       "\t\tL446.0,270.9 L447.1,270.7 L448.2,270.6 L450.4,270.3 L452.6,270.0 L454.8,269.7 L457.0,269.4 L459.2,269.1\n",
       "\t\tL461.4,268.8 L463.5,268.5 L465.7,268.2 L467.9,268.0 L470.1,267.7 L472.3,267.4 L474.5,267.2 L476.7,266.9\n",
       "\t\tL478.9,266.7 L481.1,266.4 L483.2,266.2 L485.4,266.0 L487.6,265.7 L489.8,265.5 L492.0,265.3 L494.2,265.0\n",
       "\t\tL496.4,264.8 L498.6,264.6 L500.8,264.4 L502.9,264.2 L505.1,264.0 L507.3,263.8 L509.5,263.6 L511.7,263.4\n",
       "\t\tL513.9,263.2 L516.1,263.0 L518.3,262.8 L520.5,262.6 L522.6,262.4 L524.8,262.2 L527.0,262.1 L529.2,261.9\n",
       "\t\tL531.4,261.7 L533.6,261.5 L535.8,261.4 L538.0,261.2 L540.2,261.0 L542.3,260.9 L544.5,260.7 L546.7,260.6\n",
       "\t\tL548.9,260.4 L551.1,260.3 L553.3,260.1 L555.5,260.0 L557.7,259.8 L559.9,259.7 L562.0,259.5 L563.1,259.5\n",
       "\t\tL564.2,259.4 L565.3,259.3 L566.4,259.3 L567.0,259.2 L567.5,259.2 L568.1,259.2 L568.6,259.1 L568.9,259.1\n",
       "\t\tL569.2,259.1 L569.4,259.1 L569.7,259.1 L569.8,259.1 L570.0,259.1 L570.1,259.0 L570.3,259.0 L570.4,259.0\n",
       "\t\tL570.5,259.0 L570.7,259.0 L570.8,268.5  '/></g>\n",
       "\t</g>\n",
       "\t<g id=\"gnuplot_plot_3\" ><title>1/x2</title>\n",
       "<g fill=\"none\" color=\"black\" stroke=\"currentColor\" stroke-width=\"1.00\" stroke-linecap=\"butt\" stroke-linejoin=\"miter\">\n",
       "\t<g transform=\"translate(492.4,93.3)\" stroke=\"none\" fill=\"black\" font-family=\"Arial\" font-size=\"14.00\"  text-anchor=\"end\">\n",
       "\t\t<text><tspan font-family=\"Arial\" >1/x</tspan><tspan font-family=\"Arial\"  font-size=\"11.2\" dy=\"-7.00px\">2</tspan><tspan font-size=\"14.0\" dy=\"7.00\"></tspan></text>\n",
       "\t</g>\n",
       "</g>\n",
       "<g fill=\"none\" color=\"black\" stroke=\"currentColor\" stroke-width=\"1.00\" stroke-linecap=\"butt\" stroke-linejoin=\"miter\">\n",
       "\t<path stroke='rgb(  0, 255,   0)'  d='M502.1,88.7 L551.4,88.7 M63.0,25.7 L64.1,29.8 L65.2,33.7 L66.3,37.6 L67.4,41.3 L68.5,45.0\n",
       "\t\tL69.6,48.5 L70.7,52.0 L71.8,55.4 L72.8,58.7 L73.9,62.0 L75.0,65.2 L76.1,68.2 L77.2,71.3\n",
       "\t\tL78.3,74.2 L79.4,77.1 L80.5,79.9 L81.6,82.7 L82.7,85.4 L83.8,88.0 L84.9,90.6 L86.0,93.1\n",
       "\t\tL87.1,95.6 L88.2,98.0 L89.3,100.3 L90.4,102.6 L91.5,104.9 L92.5,107.1 L93.6,109.3 L94.7,111.4\n",
       "\t\tL95.8,113.5 L96.9,115.5 L98.0,117.5 L99.1,119.5 L100.2,121.4 L101.3,123.3 L102.4,125.1 L103.5,126.9\n",
       "\t\tL104.6,128.7 L105.7,130.4 L106.8,132.1 L107.9,133.8 L109.0,135.4 L110.1,137.1 L111.2,138.6 L112.2,140.2\n",
       "\t\tL113.3,141.7 L114.4,143.2 L115.5,144.7 L116.6,146.1 L117.7,147.5 L118.8,148.9 L119.9,150.3 L121.0,151.6\n",
       "\t\tL122.1,152.9 L123.2,154.2 L124.3,155.5 L125.4,156.7 L126.5,158.0 L127.6,159.2 L128.7,160.3 L129.8,161.5\n",
       "\t\tL130.9,162.7 L131.9,163.8 L133.0,164.9 L134.1,166.0 L135.2,167.1 L136.3,168.1 L137.4,169.1 L138.5,170.2\n",
       "\t\tL139.6,171.2 L140.7,172.2 L141.8,173.1 L142.9,174.1 L144.0,175.0 L145.1,176.0 L146.2,176.9 L147.3,177.8\n",
       "\t\tL148.4,178.6 L149.5,179.5 L150.6,180.4 L151.6,181.2 L152.7,182.1 L153.8,182.9 L154.9,183.7 L156.0,184.5\n",
       "\t\tL157.1,185.3 L158.2,186.0 L159.3,186.8 L160.4,187.5 L161.5,188.3 L162.6,189.0 L163.7,189.7 L164.8,190.4\n",
       "\t\tL165.9,191.1 L167.0,191.8 L168.1,192.5 L169.2,193.2 L170.3,193.8 L171.3,194.5 L172.4,195.1 L173.5,195.7\n",
       "\t\tL174.6,196.4 L175.7,197.0 L176.8,197.6 L177.9,198.2 L179.0,198.8 L180.1,199.3 L181.2,199.9 L182.3,200.5\n",
       "\t\tL183.4,201.0 L184.5,201.6 L185.6,202.1 L186.7,202.7 L187.8,203.2 L188.9,203.7 L190.0,204.2 L191.0,204.8\n",
       "\t\tL192.1,205.3 L193.2,205.8 L194.3,206.2 L195.4,206.7 L196.5,207.2 L197.6,207.7 L198.7,208.1 L199.8,208.6\n",
       "\t\tL200.9,209.1 L202.0,209.5 L203.1,210.0 L204.2,210.4 L205.3,210.8 L206.4,211.3 L207.5,211.7 L208.6,212.1\n",
       "\t\tL209.6,212.5 L210.7,212.9 L211.8,213.3 L214.0,214.1 L216.2,214.9 L218.4,215.6 L220.6,216.4 L222.8,217.1\n",
       "\t\tL225.0,217.8 L227.2,218.5 L229.3,219.2 L231.5,219.8 L233.7,220.5 L235.9,221.1 L238.1,221.7 L240.3,222.3\n",
       "\t\tL242.5,222.9 L244.7,223.5 L246.9,224.0 L249.0,224.6 L251.2,225.1 L253.4,225.7 L255.6,226.2 L257.8,226.7\n",
       "\t\tL260.0,227.2 L262.2,227.7 L264.4,228.2 L266.6,228.6 L268.7,229.1 L270.9,229.6 L273.1,230.0 L275.3,230.4\n",
       "\t\tL277.5,230.9 L279.7,231.3 L281.9,231.7 L284.1,232.1 L286.3,232.5 L288.4,232.9 L290.6,233.2 L292.8,233.6\n",
       "\t\tL295.0,234.0 L297.2,234.3 L299.4,234.7 L301.6,235.0 L303.8,235.4 L306.0,235.7 L308.1,236.1 L310.3,236.4\n",
       "\t\tL312.5,236.7 L314.7,237.0 L316.9,237.3 L319.1,237.6 L321.3,237.9 L323.5,238.2 L325.7,238.5 L327.8,238.8\n",
       "\t\tL330.0,239.0 L332.2,239.3 L334.4,239.6 L336.6,239.8 L338.8,240.1 L341.0,240.4 L343.2,240.6 L345.4,240.9\n",
       "\t\tL347.5,241.1 L349.7,241.3 L351.9,241.6 L354.1,241.8 L356.3,242.0 L358.5,242.3 L360.7,242.5 L362.9,242.7\n",
       "\t\tL365.1,242.9 L367.2,243.1 L369.4,243.3 L371.6,243.5 L373.8,243.7 L376.0,243.9 L378.2,244.1 L380.4,244.3\n",
       "\t\tL382.6,244.5 L384.8,244.7 L386.9,244.9 L389.1,245.1 L391.3,245.3 L393.5,245.4 L395.7,245.6 L397.9,245.8\n",
       "\t\tL400.1,245.9 L402.3,246.1 L404.5,246.3 L406.6,246.4 L408.8,246.6 L411.0,246.8 L413.2,246.9 L415.4,247.1\n",
       "\t\tL417.6,247.2 L419.8,247.4 L422.0,247.5 L424.2,247.7 L426.3,247.8 L428.5,247.9 L430.7,248.1 L432.9,248.2\n",
       "\t\tL435.1,248.4 L437.3,248.5 L439.5,248.6 L441.7,248.8 L443.9,248.9 L446.0,249.0 L448.2,249.1 L450.4,249.3\n",
       "\t\tL452.6,249.4 L454.8,249.5 L457.0,249.6 L459.2,249.7 L461.4,249.9 L463.5,250.0 L465.7,250.1 L467.9,250.2\n",
       "\t\tL470.1,250.3 L472.3,250.4 L474.5,250.5 L476.7,250.6 L478.9,250.7 L481.1,250.8 L483.2,250.9 L485.4,251.1\n",
       "\t\tL487.6,251.2 L489.8,251.3 L492.0,251.3 L494.2,251.4 L496.4,251.5 L498.6,251.6 L500.8,251.7 L502.9,251.8\n",
       "\t\tL505.1,251.9 L507.3,252.0 L509.5,252.1 L511.7,252.2 L513.9,252.3 L516.1,252.4 L518.3,252.4 L520.5,252.5\n",
       "\t\tL522.6,252.6 L524.8,252.7 L527.0,252.8 L529.2,252.9 L531.4,252.9 L533.6,253.0 L535.8,253.1 L538.0,253.2\n",
       "\t\tL540.2,253.2 L542.3,253.3 L544.5,253.4 L546.7,253.5 L548.9,253.5 L551.1,253.6 L553.3,253.7 L555.5,253.8\n",
       "\t\tL557.7,253.8 L559.9,253.9 L562.0,254.0 L564.2,254.0 L566.4,254.1 L568.6,254.2 L570.8,254.2  '/></g>\n",
       "\t</g>\n",
       "<g fill=\"none\" color=\"black\" stroke=\"currentColor\" stroke-width=\"1.00\" stroke-linecap=\"butt\" stroke-linejoin=\"miter\">\n",
       "\t<path stroke='black'  d='M63.0,406.6 L73.5,406.6 M570.8,406.6 L560.3,406.6  '/>\t<g transform=\"translate(53.3,411.2)\" stroke=\"none\" fill=\"black\" font-family=\"Arial\" font-size=\"14.00\"  text-anchor=\"end\">\n",
       "\t\t<text><tspan font-family=\"Arial\" >-0.6</tspan></text>\n",
       "\t</g>\n",
       "</g>\n",
       "<g fill=\"none\" color=\"black\" stroke=\"currentColor\" stroke-width=\"1.00\" stroke-linecap=\"butt\" stroke-linejoin=\"miter\">\n",
       "\t<path stroke='black'  d='M63.0,359.0 L73.5,359.0 M570.8,359.0 L560.3,359.0  '/>\t<g transform=\"translate(53.3,363.6)\" stroke=\"none\" fill=\"black\" font-family=\"Arial\" font-size=\"14.00\"  text-anchor=\"end\">\n",
       "\t\t<text><tspan font-family=\"Arial\" >-0.4</tspan></text>\n",
       "\t</g>\n",
       "</g>\n",
       "<g fill=\"none\" color=\"black\" stroke=\"currentColor\" stroke-width=\"1.00\" stroke-linecap=\"butt\" stroke-linejoin=\"miter\">\n",
       "\t<path stroke='black'  d='M63.0,311.4 L73.5,311.4 M570.8,311.4 L560.3,311.4  '/>\t<g transform=\"translate(53.3,316.0)\" stroke=\"none\" fill=\"black\" font-family=\"Arial\" font-size=\"14.00\"  text-anchor=\"end\">\n",
       "\t\t<text><tspan font-family=\"Arial\" >-0.2</tspan></text>\n",
       "\t</g>\n",
       "</g>\n",
       "<g fill=\"none\" color=\"black\" stroke=\"currentColor\" stroke-width=\"1.00\" stroke-linecap=\"butt\" stroke-linejoin=\"miter\">\n",
       "\t<path stroke='black'  d='M63.0,263.8 L73.5,263.8 M570.8,263.8 L560.3,263.8  '/>\t<g transform=\"translate(53.3,268.4)\" stroke=\"none\" fill=\"black\" font-family=\"Arial\" font-size=\"14.00\"  text-anchor=\"end\">\n",
       "\t\t<text><tspan font-family=\"Arial\" > 0</tspan></text>\n",
       "\t</g>\n",
       "</g>\n",
       "<g fill=\"none\" color=\"black\" stroke=\"currentColor\" stroke-width=\"1.00\" stroke-linecap=\"butt\" stroke-linejoin=\"miter\">\n",
       "\t<path stroke='black'  d='M63.0,216.1 L73.5,216.1 M570.8,216.1 L560.3,216.1  '/>\t<g transform=\"translate(53.3,220.7)\" stroke=\"none\" fill=\"black\" font-family=\"Arial\" font-size=\"14.00\"  text-anchor=\"end\">\n",
       "\t\t<text><tspan font-family=\"Arial\" > 0.2</tspan></text>\n",
       "\t</g>\n",
       "</g>\n",
       "<g fill=\"none\" color=\"black\" stroke=\"currentColor\" stroke-width=\"1.00\" stroke-linecap=\"butt\" stroke-linejoin=\"miter\">\n",
       "\t<path stroke='black'  d='M63.0,168.5 L73.5,168.5 M570.8,168.5 L560.3,168.5  '/>\t<g transform=\"translate(53.3,173.1)\" stroke=\"none\" fill=\"black\" font-family=\"Arial\" font-size=\"14.00\"  text-anchor=\"end\">\n",
       "\t\t<text><tspan font-family=\"Arial\" > 0.4</tspan></text>\n",
       "\t</g>\n",
       "</g>\n",
       "<g fill=\"none\" color=\"black\" stroke=\"currentColor\" stroke-width=\"1.00\" stroke-linecap=\"butt\" stroke-linejoin=\"miter\">\n",
       "\t<path stroke='black'  d='M63.0,120.9 L73.5,120.9 M570.8,120.9 L560.3,120.9  '/>\t<g transform=\"translate(53.3,125.5)\" stroke=\"none\" fill=\"black\" font-family=\"Arial\" font-size=\"14.00\"  text-anchor=\"end\">\n",
       "\t\t<text><tspan font-family=\"Arial\" > 0.6</tspan></text>\n",
       "\t</g>\n",
       "</g>\n",
       "<g fill=\"none\" color=\"black\" stroke=\"currentColor\" stroke-width=\"1.00\" stroke-linecap=\"butt\" stroke-linejoin=\"miter\">\n",
       "\t<path stroke='black'  d='M63.0,73.3 L73.5,73.3 M570.8,73.3 L560.3,73.3  '/>\t<g transform=\"translate(53.3,77.9)\" stroke=\"none\" fill=\"black\" font-family=\"Arial\" font-size=\"14.00\"  text-anchor=\"end\">\n",
       "\t\t<text><tspan font-family=\"Arial\" > 0.8</tspan></text>\n",
       "\t</g>\n",
       "</g>\n",
       "<g fill=\"none\" color=\"black\" stroke=\"currentColor\" stroke-width=\"1.00\" stroke-linecap=\"butt\" stroke-linejoin=\"miter\">\n",
       "\t<path stroke='black'  d='M63.0,25.7 L73.5,25.7 M570.8,25.7 L560.3,25.7  '/>\t<g transform=\"translate(53.3,30.3)\" stroke=\"none\" fill=\"black\" font-family=\"Arial\" font-size=\"14.00\"  text-anchor=\"end\">\n",
       "\t\t<text><tspan font-family=\"Arial\" > 1</tspan></text>\n",
       "\t</g>\n",
       "</g>\n",
       "<g fill=\"none\" color=\"black\" stroke=\"currentColor\" stroke-width=\"1.00\" stroke-linecap=\"butt\" stroke-linejoin=\"miter\">\n",
       "\t<path stroke='black'  d='M63.0,406.6 L63.0,396.1 M63.0,25.7 L63.0,36.2  '/>\t<g transform=\"translate(63.0,432.2)\" stroke=\"none\" fill=\"black\" font-family=\"Arial\" font-size=\"14.00\"  text-anchor=\"middle\">\n",
       "\t\t<text><tspan font-family=\"Arial\" > 1</tspan></text>\n",
       "\t</g>\n",
       "</g>\n",
       "<g fill=\"none\" color=\"black\" stroke=\"currentColor\" stroke-width=\"1.00\" stroke-linecap=\"butt\" stroke-linejoin=\"miter\">\n",
       "\t<path stroke='black'  d='M126.5,406.6 L126.5,396.1 M126.5,25.7 L126.5,36.2  '/>\t<g transform=\"translate(126.5,432.2)\" stroke=\"none\" fill=\"black\" font-family=\"Arial\" font-size=\"14.00\"  text-anchor=\"middle\">\n",
       "\t\t<text><tspan font-family=\"Arial\" > 1.5</tspan></text>\n",
       "\t</g>\n",
       "</g>\n",
       "<g fill=\"none\" color=\"black\" stroke=\"currentColor\" stroke-width=\"1.00\" stroke-linecap=\"butt\" stroke-linejoin=\"miter\">\n",
       "\t<path stroke='black'  d='M190.0,406.6 L190.0,396.1 M190.0,25.7 L190.0,36.2  '/>\t<g transform=\"translate(190.0,432.2)\" stroke=\"none\" fill=\"black\" font-family=\"Arial\" font-size=\"14.00\"  text-anchor=\"middle\">\n",
       "\t\t<text><tspan font-family=\"Arial\" > 2</tspan></text>\n",
       "\t</g>\n",
       "</g>\n",
       "<g fill=\"none\" color=\"black\" stroke=\"currentColor\" stroke-width=\"1.00\" stroke-linecap=\"butt\" stroke-linejoin=\"miter\">\n",
       "\t<path stroke='black'  d='M253.4,406.6 L253.4,396.1 M253.4,25.7 L253.4,36.2  '/>\t<g transform=\"translate(253.4,432.2)\" stroke=\"none\" fill=\"black\" font-family=\"Arial\" font-size=\"14.00\"  text-anchor=\"middle\">\n",
       "\t\t<text><tspan font-family=\"Arial\" > 2.5</tspan></text>\n",
       "\t</g>\n",
       "</g>\n",
       "<g fill=\"none\" color=\"black\" stroke=\"currentColor\" stroke-width=\"1.00\" stroke-linecap=\"butt\" stroke-linejoin=\"miter\">\n",
       "\t<path stroke='black'  d='M316.9,406.6 L316.9,396.1 M316.9,25.7 L316.9,36.2  '/>\t<g transform=\"translate(316.9,432.2)\" stroke=\"none\" fill=\"black\" font-family=\"Arial\" font-size=\"14.00\"  text-anchor=\"middle\">\n",
       "\t\t<text><tspan font-family=\"Arial\" > 3</tspan></text>\n",
       "\t</g>\n",
       "</g>\n",
       "<g fill=\"none\" color=\"black\" stroke=\"currentColor\" stroke-width=\"1.00\" stroke-linecap=\"butt\" stroke-linejoin=\"miter\">\n",
       "\t<path stroke='black'  d='M380.4,406.6 L380.4,396.1 M380.4,25.7 L380.4,36.2  '/>\t<g transform=\"translate(380.4,432.2)\" stroke=\"none\" fill=\"black\" font-family=\"Arial\" font-size=\"14.00\"  text-anchor=\"middle\">\n",
       "\t\t<text><tspan font-family=\"Arial\" > 3.5</tspan></text>\n",
       "\t</g>\n",
       "</g>\n",
       "<g fill=\"none\" color=\"black\" stroke=\"currentColor\" stroke-width=\"1.00\" stroke-linecap=\"butt\" stroke-linejoin=\"miter\">\n",
       "\t<path stroke='black'  d='M443.9,406.6 L443.9,396.1 M443.9,25.7 L443.9,36.2  '/>\t<g transform=\"translate(443.9,432.2)\" stroke=\"none\" fill=\"black\" font-family=\"Arial\" font-size=\"14.00\"  text-anchor=\"middle\">\n",
       "\t\t<text><tspan font-family=\"Arial\" > 4</tspan></text>\n",
       "\t</g>\n",
       "</g>\n",
       "<g fill=\"none\" color=\"black\" stroke=\"currentColor\" stroke-width=\"1.00\" stroke-linecap=\"butt\" stroke-linejoin=\"miter\">\n",
       "\t<path stroke='black'  d='M507.3,406.6 L507.3,396.1 M507.3,25.7 L507.3,36.2  '/>\t<g transform=\"translate(507.3,432.2)\" stroke=\"none\" fill=\"black\" font-family=\"Arial\" font-size=\"14.00\"  text-anchor=\"middle\">\n",
       "\t\t<text><tspan font-family=\"Arial\" > 4.5</tspan></text>\n",
       "\t</g>\n",
       "</g>\n",
       "<g fill=\"none\" color=\"black\" stroke=\"currentColor\" stroke-width=\"1.00\" stroke-linecap=\"butt\" stroke-linejoin=\"miter\">\n",
       "\t<path stroke='black'  d='M570.8,406.6 L570.8,396.1 M570.8,25.7 L570.8,36.2  '/>\t<g transform=\"translate(570.8,432.2)\" stroke=\"none\" fill=\"black\" font-family=\"Arial\" font-size=\"14.00\"  text-anchor=\"middle\">\n",
       "\t\t<text><tspan font-family=\"Arial\" > 5</tspan></text>\n",
       "\t</g>\n",
       "</g>\n",
       "<g fill=\"none\" color=\"black\" stroke=\"currentColor\" stroke-width=\"1.00\" stroke-linecap=\"butt\" stroke-linejoin=\"miter\">\n",
       "</g>\n",
       "<g fill=\"none\" color=\"gray\" stroke=\"currentColor\" stroke-width=\"1.00\" stroke-linecap=\"butt\" stroke-linejoin=\"miter\">\n",
       "\t<path stroke='black' stroke-dasharray='2,4'  d='M63.0,263.8 L570.8,263.8  '/></g>\n",
       "<g fill=\"none\" color=\"gray\" stroke=\"black\" stroke-width=\"2.00\" stroke-linecap=\"butt\" stroke-linejoin=\"miter\">\n",
       "</g>\n",
       "<g fill=\"none\" color=\"black\" stroke=\"currentColor\" stroke-width=\"2.00\" stroke-linecap=\"butt\" stroke-linejoin=\"miter\">\n",
       "</g>\n",
       "<g fill=\"none\" color=\"black\" stroke=\"black\" stroke-width=\"1.00\" stroke-linecap=\"butt\" stroke-linejoin=\"miter\">\n",
       "</g>\n",
       "<g fill=\"none\" color=\"black\" stroke=\"currentColor\" stroke-width=\"1.00\" stroke-linecap=\"butt\" stroke-linejoin=\"miter\">\n",
       "\t<path stroke='black'  d='M63.0,25.7 L63.0,406.6 L570.8,406.6 L570.8,25.7 L63.0,25.7 Z  '/></g>\n",
       "<g fill=\"none\" color=\"black\" stroke=\"currentColor\" stroke-width=\"1.00\" stroke-linecap=\"butt\" stroke-linejoin=\"miter\">\n",
       "</g>\n",
       "</g>\n",
       "</svg>\n",
       "\n"
      ],
      "text/plain": [
       "/var/folders/3n/jp9c5wkw8xjgmy006s6t_pt80000gn/T/maxplot.svg"
      ]
     },
     "metadata": {},
     "output_type": "display_data"
    }
   ],
   "source": [
    "plot2d([bernpoly(x-floor(x),1),bernpoly(x-floor(x),1)/x^2,1/x^2],[x,1,5])$"
   ]
  },
  {
   "cell_type": "code",
   "execution_count": 10,
   "metadata": {},
   "outputs": [
    {
     "data": {
      "text/latex": [
       "\\[\\tag{${\\it \\%o}_{11}$}-\\sum_{k=1}^{M-1}{\\left(\\log \\left(k+1\\right)-\\log k+\\frac{1}{2\\,k+2}+\\frac{k}{k+1}-\\frac{1}{2\\,k}-1\\right)}\\]"
      ],
      "text/plain": [
       "             M - 1\n",
       "             ====\n",
       "             \\                               1        k      1\n",
       "(%o11)     -  >    (log(k + 1) - log(k) + ------- + ----- - --- - 1)\n",
       "             /                            2 k + 2   k + 1   2 k\n",
       "             ====\n",
       "             k = 1"
      ],
      "text/x-maxima": [
       "-'sum(log(k+1)-log(k)+1/(2*k+2)+k/(k+1)-1/(2*k)-1,k,1,M-1)"
      ]
     },
     "execution_count": 10,
     "metadata": {},
     "output_type": "execute_result"
    }
   ],
   "source": [
    "apply1(first(rhs(EuGamma)), emsRemInt);"
   ]
  },
  {
   "cell_type": "code",
   "execution_count": 11,
   "metadata": {},
   "outputs": [
    {
     "data": {
      "text/latex": [
       "\\[\\tag{${\\it \\%o}_{12}$}0.0772073316515306\\]"
      ],
      "text/plain": [
       "(%o12)                        0.0772073316515306"
      ],
      "text/x-maxima": [
       "0.0772073316515306"
      ]
     },
     "execution_count": 11,
     "metadata": {},
     "output_type": "execute_result"
    }
   ],
   "source": [
    "rem:%,M:100,nouns,numer;"
   ]
  },
  {
   "cell_type": "code",
   "execution_count": 12,
   "metadata": {},
   "outputs": [
    {
     "data": {
      "text/latex": [
       "\\[\\tag{${\\it \\%o}_{13}$}0.5772073316515306\\]"
      ],
      "text/plain": [
       "(%o13)                        0.5772073316515306"
      ],
      "text/x-maxima": [
       "0.5772073316515306"
      ]
     },
     "execution_count": 12,
     "metadata": {},
     "output_type": "execute_result"
    }
   ],
   "source": [
    "limit(rest(rhs(EuGamma)),M,inf)+rem,numer;"
   ]
  },
  {
   "cell_type": "code",
   "execution_count": 13,
   "metadata": {},
   "outputs": [
    {
     "data": {
      "text/latex": [
       "\\[\\tag{${\\it \\%o}_{14}$}0.5772156649015329\\]"
      ],
      "text/plain": [
       "(%o14)                        0.5772156649015329"
      ],
      "text/x-maxima": [
       "0.5772156649015329"
      ]
     },
     "execution_count": 13,
     "metadata": {},
     "output_type": "execute_result"
    }
   ],
   "source": [
    "%gamma,numer;"
   ]
  },
  {
   "cell_type": "code",
   "execution_count": null,
   "metadata": {},
   "outputs": [],
   "source": []
  },
  {
   "cell_type": "code",
   "execution_count": 14,
   "metadata": {},
   "outputs": [
    {
     "name": "stdout",
     "output_type": "stream",
     "text": [
      "Is M - 9999 positive, negative or zero?\n",
      "pos;\n"
     ]
    },
    {
     "data": {
      "text/latex": [
       "\\[\\tag{${\\it \\%o}_{15}$}\\sum_{n=10000}^{M}{\\frac{1}{n}}=-\\int_{10000}^{M}{\\frac{\\overline{B}_{6}\\left(x\\right)}{x^7}\\;dx}+\\log M+\\frac{1}{2\\,M}+\\frac{\\frac{1}{100000000}-\\frac{1}{M^2}}{12}-\\frac{\\frac{3}{5000000000000000}-\\frac{6}{M^4}}{720}+\\frac{\\frac{3}{25000000000000000000000}-\\frac{120}{M^6}}{30240}-\\log 10000+\\frac{1}{20000}\\]"
      ],
      "text/plain": [
       "        M                M\n",
       "       ====             /\n",
       "       \\         1      [      periodic_bernpoly(x, 6)                 1\n",
       "(%o15)  >        - = (- I      ----------------------- dx) + log(M) + ---\n",
       "       /         n      ]                 7                           2 M\n",
       "       ====             /                x\n",
       "       n = 10000         10000\n",
       "       1       1           3           6               3              120\n",
       "   --------- - --   ---------------- - --   ----------------------- - ---\n",
       "   100000000    2   5000000000000000    4   25000000000000000000000    6\n",
       "               M                       M                              M\n",
       " + -------------- - --------------------- + -----------------------------\n",
       "         12                  720                        30240\n",
       "                  1\n",
       " - log(10000) + -----\n",
       "                20000"
      ],
      "text/x-maxima": [
       "'sum(1/n,n,10000,M) = (-'integrate(periodic_bernpoly(x,6)/x^7,x,10000,M))\n",
       "                    +log(M)+1/(2*M)+(1/100000000-1/M^2)/12\n",
       "                    -(3/5000000000000000-6/M^4)/720\n",
       "                    +(3/25000000000000000000000-120/M^6)/30240-log(10000)\n",
       "                    +1/20000"
      ]
     },
     "execution_count": 14,
     "metadata": {},
     "output_type": "execute_result"
    },
    {
     "name": "stdout",
     "output_type": "stream",
     "text": [
      "\n"
     ]
    }
   ],
   "source": [
    "ems,f(x):=1/x,N:10000,K:6,nouns;"
   ]
  },
  {
   "cell_type": "code",
   "execution_count": 15,
   "metadata": {},
   "outputs": [
    {
     "data": {
      "text/latex": [
       "\\[\\tag{${\\it \\%o}_{16}$}\\sum_{n=10000}^{M}{\\frac{1}{n}}-\\log M=-\\int_{10000}^{M}{\\frac{\\overline{B}_{6}\\left(x\\right)}{x^7}\\;dx}+\\frac{1}{2\\,M}+\\frac{\\frac{1}{100000000}-\\frac{1}{M^2}}{12}-\\frac{\\frac{3}{5000000000000000}-\\frac{6}{M^4}}{720}+\\frac{\\frac{3}{25000000000000000000000}-\\frac{120}{M^6}}{30240}-\\log 10000+\\frac{1}{20000}\\]"
      ],
      "text/plain": [
       "        M                         M\n",
       "       ====                      /\n",
       "       \\         1               [      periodic_bernpoly(x, 6)        1\n",
       "(%o16)  >        - - log(M) = (- I      ----------------------- dx) + ---\n",
       "       /         n               ]                 7                  2 M\n",
       "       ====                      /                x\n",
       "       n = 10000                  10000\n",
       "       1       1           3           6               3              120\n",
       "   --------- - --   ---------------- - --   ----------------------- - ---\n",
       "   100000000    2   5000000000000000    4   25000000000000000000000    6\n",
       "               M                       M                              M\n",
       " + -------------- - --------------------- + -----------------------------\n",
       "         12                  720                        30240\n",
       "                  1\n",
       " - log(10000) + -----\n",
       "                20000"
      ],
      "text/x-maxima": [
       "'sum(1/n,n,10000,M)-log(M) = (-'integrate(periodic_bernpoly(x,6)/x^7,x,10000,\n",
       "                                          M))\n",
       "                           +1/(2*M)+(1/100000000-1/M^2)/12\n",
       "                           -(3/5000000000000000-6/M^4)/720\n",
       "                           +(3/25000000000000000000000-120/M^6)/30240\n",
       "                           -log(10000)+1/20000"
      ]
     },
     "execution_count": 15,
     "metadata": {},
     "output_type": "execute_result"
    }
   ],
   "source": [
    "EuGamma:%-log(M);"
   ]
  },
  {
   "cell_type": "code",
   "execution_count": 16,
   "metadata": {},
   "outputs": [
    {
     "data": {
      "text/latex": [
       "\\[\\tag{${\\it \\%o}_{17}$}\\left(x-1\\right)\\,x\\,\\left(2\\,x-1\\right)\\,\\left(3\\,x^2-3\\,x-1\\right)\\]"
      ],
      "text/plain": [
       "                                             2\n",
       "(%o17)               (x - 1) x (2 x - 1) (3 x  - 3 x - 1)"
      ],
      "text/x-maxima": [
       "(x-1)*x*(2*x-1)*(3*x^2-3*x-1)"
      ]
     },
     "execution_count": 16,
     "metadata": {},
     "output_type": "execute_result"
    }
   ],
   "source": [
    "diff(bernpoly(x,6),x),factor;"
   ]
  },
  {
   "cell_type": "code",
   "execution_count": 17,
   "metadata": {},
   "outputs": [
    {
     "data": {
      "text/latex": [
       "\\[\\tag{${\\it \\%o}_{18}$}\\left[ \\frac{1}{42} , -\\frac{31}{1344} , \\frac{1}{42} \\right] \\]"
      ],
      "text/plain": [
       "                                1      31   1\n",
       "(%o18)                         [--, - ----, --]\n",
       "                                42    1344  42"
      ],
      "text/x-maxima": [
       "[1/42,-31/1344,1/42]"
      ]
     },
     "execution_count": 17,
     "metadata": {},
     "output_type": "execute_result"
    }
   ],
   "source": [
    "[bernpoly(0,6),bernpoly(1/2,6),bernpoly(1,6)];"
   ]
  },
  {
   "cell_type": "code",
   "execution_count": 18,
   "metadata": {},
   "outputs": [
    {
     "data": {
      "text/latex": [
       "\\[\\tag{${\\it \\%o}_{19}$}\\left[ \\frac{1}{252000000000000000000000000} , 3.968253968253969 \\times 10^{-27} \\right] \\]"
      ],
      "text/plain": [
       "                           1\n",
       "(%o19)       [---------------------------, 3.968253968253969e-27]\n",
       "              252000000000000000000000000"
      ],
      "text/x-maxima": [
       "[1/252000000000000000000000000,3.968253968253969e-27]"
      ]
     },
     "execution_count": 18,
     "metadata": {},
     "output_type": "execute_result"
    }
   ],
   "source": [
    "[err:integrate(%[1]/x^7,x,10000,inf),ev(err,numer)];"
   ]
  },
  {
   "cell_type": "code",
   "execution_count": 19,
   "metadata": {},
   "outputs": [
    {
     "data": {
      "text/latex": [
       "\\[\\tag{${\\it \\%o}_{20}$}30\\]"
      ],
      "text/plain": [
       "(%o20)                                30"
      ],
      "text/x-maxima": [
       "30"
      ]
     },
     "execution_count": 19,
     "metadata": {},
     "output_type": "execute_result"
    }
   ],
   "source": [
    "fpprec:30;"
   ]
  },
  {
   "cell_type": "code",
   "execution_count": 20,
   "metadata": {},
   "outputs": [
    {
     "data": {
      "text/latex": [
       "\\[\\tag{${\\it \\%o}_{21}$}5.77215664901532860606512090082_B \\times 10^{-1}\\]"
      ],
      "text/plain": [
       "(%o21)                5.77215664901532860606512090082b-1"
      ],
      "text/x-maxima": [
       "5.77215664901532860606512090082b-1"
      ]
     },
     "execution_count": 20,
     "metadata": {},
     "output_type": "execute_result"
    }
   ],
   "source": [
    "bfloat(sum(1/n,n,1,9999)+limit(rest(rhs(EuGamma)),M,inf));"
   ]
  },
  {
   "cell_type": "code",
   "execution_count": 21,
   "metadata": {},
   "outputs": [
    {
     "data": {
      "text/latex": [
       "\\[\\tag{${\\it \\%o}_{22}$}5.77215664901532860606512090082_B \\times 10^{-1}\\]"
      ],
      "text/plain": [
       "(%o22)                5.77215664901532860606512090082b-1"
      ],
      "text/x-maxima": [
       "5.77215664901532860606512090082b-1"
      ]
     },
     "execution_count": 21,
     "metadata": {},
     "output_type": "execute_result"
    }
   ],
   "source": [
    "bfloat(%gamma);"
   ]
  }
 ],
 "metadata": {
  "kernelspec": {
   "display_name": "Maxima",
   "language": "maxima",
   "name": "maxima"
  },
  "language_info": {
   "codemirror_mode": "maxima",
   "file_extension": ".mac",
   "mimetype": "text/x-maxima",
   "name": "maxima",
   "pygments_lexer": "maxima",
   "version": "5.42.1"
  }
 },
 "nbformat": 4,
 "nbformat_minor": 4
}
