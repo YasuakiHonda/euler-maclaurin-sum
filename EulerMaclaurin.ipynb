{
 "cells": [
  {
   "cell_type": "markdown",
   "metadata": {},
   "source": [
    "#Euler Maclaurin Summation Formula for Maxima CAS\n",
    "\n",
    "Written by Yasuaki dot Honda at gmail dot com\n",
    "\n",
    "Copyright 2020 Yasuaki Honda\n",
    "\n",
    "GPL2.0\n",
    "\n",
    "Application to Euler constant is taken from the following PDF:\n",
    "\n",
    "http://people.csail.mit.edu/kuat/courses/euler-maclaurin.pdf"
   ]
  },
  {
   "cell_type": "code",
   "execution_count": 1,
   "metadata": {},
   "outputs": [
    {
     "name": "stdout",
     "output_type": "stream",
     "text": [
      "To load \"drakma\":\n",
      "  Load 1 ASDF system:\n",
      "    drakma\n",
      "\n",
      "; Loading \"drakma\"\n",
      "...\n",
      "To load \"maxima-asdf\":\n",
      "  Load 1 ASDF system:\n",
      "    maxima-asdf\n"
     ]
    },
    {
     "data": {
      "text/plain": [
       "(:MAXIMA-ASDF)"
      ]
     },
     "execution_count": 1,
     "metadata": {},
     "output_type": "execute_result"
    },
    {
     "name": "stdout",
     "output_type": "stream",
     "text": [
      "\n",
      "; Loading \"maxima-asdf\"\n",
      "\n"
     ]
    }
   ],
   "source": [
    ":lisp (progn (ql:quickload :drakma) (ql:quickload :maxima-asdf))"
   ]
  },
  {
   "cell_type": "code",
   "execution_count": 2,
   "metadata": {},
   "outputs": [
    {
     "data": {
      "text/latex": [
       "\\[\\tag{${\\it \\%o}_{2}$}\\left[ \\mbox{ /home/honda/quicklisp/dists/quicklisp/archives/euler-maclaurin-sum-master.gz } , \\mbox{ /home/honda/quicklisp/local-projects/YasuakiHonda-euler-maclaurin-sum-9839650/ } \\right] \\]"
      ],
      "text/plain": [
       "(%o2) \n",
       "[/home/honda/quicklisp/dists/quicklisp/archives/euler-maclaurin-sum-master.gz, \n",
       "/home/honda/quicklisp/local-projects/YasuakiHonda-euler-maclaurin-sum-9839650/]"
      ],
      "text/x-maxima": [
       "[\"/home/honda/quicklisp/dists/quicklisp/archives/euler-maclaurin-sum-master.gz\",\n",
       " \"/home/honda/quicklisp/local-projects/YasuakiHonda-euler-maclaurin-sum-9839650/\"]"
      ]
     },
     "execution_count": 2,
     "metadata": {},
     "output_type": "execute_result"
    }
   ],
   "source": [
    "install_github(\"YasuakiHonda\",\"euler-maclaurin-sum\",\"master\");"
   ]
  },
  {
   "cell_type": "code",
   "execution_count": 3,
   "metadata": {},
   "outputs": [
    {
     "data": {
      "text/latex": [
       "\\[\\tag{${\\it \\%o}_{3}$}\\#<LOAD-SOURCE-OP >\\]"
      ],
      "text/plain": [
       "(%o3)                         #<LOAD-SOURCE-OP >"
      ],
      "text/x-maxima": [
       "\\#\\<LOAD\\-SOURCE\\-OP\\ \\>"
      ]
     },
     "execution_count": 3,
     "metadata": {},
     "output_type": "execute_result"
    }
   ],
   "source": [
    "asdf_load_source(\"euler-maclaurin-sum\");"
   ]
  },
  {
   "cell_type": "code",
   "execution_count": 4,
   "metadata": {},
   "outputs": [
    {
     "data": {
      "text/latex": [
       "\\[\\tag{${\\it \\%o}_{4}$}\\sum_{n=N}^{M}{f\\left(n\\right)}=\\sum_{k=1}^{K-1}{\\frac{\\left(-1\\right)^{k+1}\\,B_{k+1}\\,\\left(\\left.\\frac{d^{k}}{d\\,x^{k}}\\,f\\left(x\\right)\\right|_{x=M}-\\left.\\frac{d^{k}}{d\\,x^{k}}\\,f\\left(x\\right)\\right|_{x=N}\\right)}{\\left(k+1\\right)!}}+\\frac{\\left(-1\\right)^{K+1}\\,\\int_{N}^{M}{\\overline{B}_{K}\\left(x\\right)\\,\\left(\\frac{d^{K}}{d\\,x^{K}}\\,f\\left(x\\right)\\right)\\;dx}}{K!}+\\int_{N}^{M}{f\\left(x\\right)\\;dx}+\\frac{f\\left(N\\right)}{2}+\\frac{f\\left(M\\right)}{2}\\]"
      ],
      "text/plain": [
       "       M\n",
       "      ====\n",
       "      \\\n",
       "(%o4)  >    f(n) = \n",
       "      /\n",
       "      ====\n",
       "      n = N\n",
       "                                        !                  !\n",
       "                               k        !         k        !\n",
       "           k + 1              d         !        d         !\n",
       "      (- 1)      bern(k + 1) (--- (f(x))!      - --- (f(x))!     )\n",
       "K - 1                           k       !          k       !\n",
       "====                          dx        !        dx        !\n",
       "\\                                       !x = M             !x = N\n",
       " >    ------------------------------------------------------------\n",
       "/                               (k + 1)!\n",
       "====\n",
       "k = 1\n",
       "               M\n",
       "              /                            K\n",
       "        K + 1 [                           d\n",
       "   (- 1)      I  periodic_bernpoly(x, K) (--- (f(x))) dx\n",
       "              ]                             K               M\n",
       "              /                           dx               /\n",
       "               N                                           [            f(N)\n",
       " + ----------------------------------------------------- + I  f(x) dx + ----\n",
       "                            K!                             ]             2\n",
       "                                                           /\n",
       "                                                            N\n",
       "   f(M)\n",
       " + ----\n",
       "    2"
      ],
      "text/x-maxima": [
       "'sum(f(n),n,N,M) = 'sum(((-1)^(k+1)*bern(k+1)\n",
       "                                   *('at('diff(f(x),x,k),x = M)\n",
       "                                    -'at('diff(f(x),x,k),x = N)))\n",
       "                         /(k+1)!,k,1,K-1)\n",
       "                 +((-1)^(K+1)*'integrate(\n",
       "                              periodic_bernpoly(x,K)*'diff(f(x),x,K),x,N,M))\n",
       "                  /K!+'integrate(f(x),x,N,M)+f(N)/2+f(M)/2"
      ]
     },
     "execution_count": 4,
     "metadata": {},
     "output_type": "execute_result"
    }
   ],
   "source": [
    "ems;"
   ]
  },
  {
   "cell_type": "code",
   "execution_count": 5,
   "metadata": {},
   "outputs": [
    {
     "data": {
      "text/latex": [
       "\\[\\tag{${\\it \\%o}_{5}$}\\left[ M>1 \\right] \\]"
      ],
      "text/plain": [
       "(%o5)                               [M > 1]"
      ],
      "text/x-maxima": [
       "[M > 1]"
      ]
     },
     "execution_count": 5,
     "metadata": {},
     "output_type": "execute_result"
    },
    {
     "data": {
      "text/latex": [
       "\\[\\tag{${\\it \\%o}_{6}$}\\sum_{n=1}^{M}{\\frac{1}{n}}=\\int_{1}^{M}{\\frac{d}{d\\,x}\\,\\left(\\frac{1}{x}\\right)\\,\\overline{B}_{1}\\left(x\\right)\\;dx}+\\int_{1}^{M}{\\frac{1}{x}\\;dx}+\\frac{1}{2\\,M}+\\frac{1}{2}\\]"
      ],
      "text/plain": [
       "       M         M                                        M\n",
       "      ====      /                                        /\n",
       "      \\     1   [   d   1                                [  1       1    1\n",
       "(%o6)  >    - = I  (-- (-)) periodic_bernpoly(x, 1) dx + I  - dx + --- + -\n",
       "      /     n   ]   dx  x                                ]  x      2 M   2\n",
       "      ====      /                                        /\n",
       "      n = 1      1                                        1"
      ],
      "text/x-maxima": [
       "'sum(1/n,n,1,M) = 'integrate('diff(1/x,x,1)*periodic_bernpoly(x,1),x,1,M)\n",
       "                +'integrate(1/x,x,1,M)+1/(2*M)+1/2"
      ]
     },
     "execution_count": 5,
     "metadata": {},
     "output_type": "execute_result"
    }
   ],
   "source": [
    "assume(M>1);\n",
    "ems,f(x):=1/x,N:1,K:1;"
   ]
  },
  {
   "cell_type": "code",
   "execution_count": 6,
   "metadata": {},
   "outputs": [
    {
     "data": {
      "text/latex": [
       "\\[\\tag{${\\it \\%o}_{7}$}\\sum_{n=1}^{M}{\\frac{1}{n}}=-\\int_{1}^{M}{\\frac{\\overline{B}_{1}\\left(x\\right)}{x^2}\\;dx}+\\log M+\\frac{1}{2\\,M}+\\frac{1}{2}\\]"
      ],
      "text/plain": [
       "         M            M\n",
       "        ====         /\n",
       "        \\     1      [  periodic_bernpoly(x, 1)                 1    1\n",
       "(%o7)    >    - = (- I  ----------------------- dx) + log(M) + --- + -\n",
       "        /     n      ]             2                           2 M   2\n",
       "        ====         /            x\n",
       "        n = 1         1"
      ],
      "text/x-maxima": [
       "'sum(1/n,n,1,M) = (-'integrate(periodic_bernpoly(x,1)/x^2,x,1,M))\n",
       "                +log(M)+1/(2*M)+1/2"
      ]
     },
     "execution_count": 6,
     "metadata": {},
     "output_type": "execute_result"
    }
   ],
   "source": [
    "%,nouns;"
   ]
  },
  {
   "cell_type": "code",
   "execution_count": 7,
   "metadata": {},
   "outputs": [
    {
     "data": {
      "text/latex": [
       "\\[\\tag{${\\it \\%o}_{8}$}\\sum_{n=1}^{M}{\\frac{1}{n}}-\\log M=-\\int_{1}^{M}{\\frac{\\overline{B}_{1}\\left(x\\right)}{x^2}\\;dx}+\\frac{1}{2\\,M}+\\frac{1}{2}\\]"
      ],
      "text/plain": [
       "         M                     M\n",
       "        ====                  /\n",
       "        \\     1               [  periodic_bernpoly(x, 1)        1    1\n",
       "(%o8)    >    - - log(M) = (- I  ----------------------- dx) + --- + -\n",
       "        /     n               ]             2                  2 M   2\n",
       "        ====                  /            x\n",
       "        n = 1                  1"
      ],
      "text/x-maxima": [
       "'sum(1/n,n,1,M)-log(M) = (-'integrate(periodic_bernpoly(x,1)/x^2,x,1,M))\n",
       "                       +1/(2*M)+1/2"
      ]
     },
     "execution_count": 7,
     "metadata": {},
     "output_type": "execute_result"
    }
   ],
   "source": [
    "EuGamma:%-log(M);"
   ]
  },
  {
   "cell_type": "code",
   "execution_count": 8,
   "metadata": {},
   "outputs": [],
   "source": [
    "set_plot_option([svg_file, \"maxplot.svg\"])$"
   ]
  },
  {
   "cell_type": "code",
   "execution_count": 9,
   "metadata": {},
   "outputs": [
    {
     "data": {
      "image/svg+xml": [
       "<?xml version=\"1.0\" encoding=\"utf-8\"  standalone=\"no\"?>\n",
       "<svg \n",
       " width=\"600\" height=\"480\"\n",
       " viewBox=\"0 0 600 480\"\n",
       " xmlns=\"http://www.w3.org/2000/svg\"\n",
       " xmlns:xlink=\"http://www.w3.org/1999/xlink\"\n",
       ">\n",
       "\n",
       "<title>Gnuplot</title>\n",
       "<desc>Produced by GNUPLOT 5.2 patchlevel 8 </desc>\n",
       "\n",
       "<g id=\"gnuplot_canvas\">\n",
       "\n",
       "<rect x=\"0\" y=\"0\" width=\"600\" height=\"480\" fill=\"none\"/>\n",
       "<defs>\n",
       "\n",
       "\t<circle id='gpDot' r='0.5' stroke-width='0.5' stroke='currentColor'/>\n",
       "\t<path id='gpPt0' stroke-width='0.190' stroke='currentColor' d='M-1,0 h2 M0,-1 v2'/>\n",
       "\t<path id='gpPt1' stroke-width='0.190' stroke='currentColor' d='M-1,-1 L1,1 M1,-1 L-1,1'/>\n",
       "\t<path id='gpPt2' stroke-width='0.190' stroke='currentColor' d='M-1,0 L1,0 M0,-1 L0,1 M-1,-1 L1,1 M-1,1 L1,-1'/>\n",
       "\t<rect id='gpPt3' stroke-width='0.190' stroke='currentColor' x='-1' y='-1' width='2' height='2'/>\n",
       "\t<rect id='gpPt4' stroke-width='0.190' stroke='currentColor' fill='currentColor' x='-1' y='-1' width='2' height='2'/>\n",
       "\t<circle id='gpPt5' stroke-width='0.190' stroke='currentColor' cx='0' cy='0' r='1'/>\n",
       "\t<use xlink:href='#gpPt5' id='gpPt6' fill='currentColor' stroke='none'/>\n",
       "\t<path id='gpPt7' stroke-width='0.190' stroke='currentColor' d='M0,-1.33 L-1.33,0.67 L1.33,0.67 z'/>\n",
       "\t<use xlink:href='#gpPt7' id='gpPt8' fill='currentColor' stroke='none'/>\n",
       "\t<use xlink:href='#gpPt7' id='gpPt9' stroke='currentColor' transform='rotate(180)'/>\n",
       "\t<use xlink:href='#gpPt9' id='gpPt10' fill='currentColor' stroke='none'/>\n",
       "\t<use xlink:href='#gpPt3' id='gpPt11' stroke='currentColor' transform='rotate(45)'/>\n",
       "\t<use xlink:href='#gpPt11' id='gpPt12' fill='currentColor' stroke='none'/>\n",
       "\t<path id='gpPt13' stroke-width='0.190' stroke='currentColor' d='M0,1.330 L1.265,0.411 L0.782,-1.067 L-0.782,-1.076 L-1.265,0.411 z'/>\n",
       "\t<use xlink:href='#gpPt13' id='gpPt14' fill='currentColor' stroke='none'/>\n",
       "\t<filter id='textbox' filterUnits='objectBoundingBox' x='0' y='0' height='1' width='1'>\n",
       "\t  <feFlood flood-color='white' flood-opacity='1' result='bgnd'/>\n",
       "\t  <feComposite in='SourceGraphic' in2='bgnd' operator='atop'/>\n",
       "\t</filter>\n",
       "\t<filter id='greybox' filterUnits='objectBoundingBox' x='0' y='0' height='1' width='1'>\n",
       "\t  <feFlood flood-color='lightgrey' flood-opacity='1' result='grey'/>\n",
       "\t  <feComposite in='SourceGraphic' in2='grey' operator='atop'/>\n",
       "\t</filter>\n",
       "</defs>\n",
       "<g fill=\"none\" color=\"white\" stroke=\"currentColor\" stroke-width=\"1.00\" stroke-linecap=\"butt\" stroke-linejoin=\"miter\">\n",
       "</g>\n",
       "<g fill=\"none\" color=\"gray\" stroke=\"currentColor\" stroke-width=\"1.00\" stroke-linecap=\"butt\" stroke-linejoin=\"miter\">\n",
       "\t<path stroke='black' stroke-dasharray='2,4'  d='M63.0,264.6 L570.8,264.6  '/></g>\n",
       "<g fill=\"none\" color=\"black\" stroke=\"currentColor\" stroke-width=\"1.00\" stroke-linecap=\"butt\" stroke-linejoin=\"miter\">\n",
       "\t<path stroke='black'  d='M63.0,26.5 L63.0,407.4 L570.8,407.4 L570.8,26.5 L63.0,26.5 Z  '/></g>\n",
       "<g fill=\"none\" color=\"black\" stroke=\"currentColor\" stroke-width=\"1.00\" stroke-linecap=\"butt\" stroke-linejoin=\"miter\">\n",
       "\t<g transform=\"translate(316.9,464.5)\" stroke=\"none\" fill=\"black\" font-family=\"Arial\" font-size=\"14.00\"  text-anchor=\"middle\">\n",
       "\t\t<text><tspan font-family=\"Arial\" >x</tspan></text>\n",
       "\t</g>\n",
       "</g>\n",
       "<g fill=\"none\" color=\"black\" stroke=\"currentColor\" stroke-width=\"1.00\" stroke-linecap=\"butt\" stroke-linejoin=\"miter\">\n",
       "</g>\n",
       "\t<g id=\"gnuplot_plot_1\" ><title>(-floor(x))+x-1/2</title>\n",
       "<g fill=\"none\" color=\"black\" stroke=\"currentColor\" stroke-width=\"1.00\" stroke-linecap=\"butt\" stroke-linejoin=\"miter\">\n",
       "\t<g transform=\"translate(492.4,52.1)\" stroke=\"none\" fill=\"black\" font-family=\"Arial\" font-size=\"14.00\"  text-anchor=\"end\">\n",
       "\t\t<text><tspan font-family=\"Arial\" >(-floor(x))+x-1/2</tspan></text>\n",
       "\t</g>\n",
       "</g>\n",
       "<g fill=\"none\" color=\"black\" stroke=\"currentColor\" stroke-width=\"1.00\" stroke-linecap=\"butt\" stroke-linejoin=\"miter\">\n",
       "\t<path stroke='rgb(  0,   0, 255)'  d='M502.1,47.5 L551.4,47.5 M63.0,383.6 L67.4,375.4 L71.8,367.2 L76.1,359.0 L80.5,350.8 L84.9,342.5\n",
       "\t\tL89.3,334.3 L93.6,326.1 L98.0,317.9 L102.4,309.7 L106.8,301.5 L111.2,293.3 L115.5,285.1 L119.9,276.9\n",
       "\t\tL124.3,268.7 L128.7,260.5 L133.0,252.2 L137.4,244.0 L141.8,235.8 L146.2,227.6 L150.6,219.4 L154.9,211.2\n",
       "\t\tL159.3,203.0 L163.7,194.8 L168.1,186.6 L172.4,178.4 L176.8,170.2 L181.2,161.9 L185.6,153.7 L186.1,152.7\n",
       "\t\tL186.7,151.7 L187.2,150.7 L187.8,149.6 L188.0,149.1 L188.3,148.6 L188.6,148.1 L188.9,147.6 L189.0,147.3\n",
       "\t\tL189.1,147.1 L189.3,146.8 L189.4,146.6 L189.5,146.3 L189.7,146.0 L189.8,145.8 L190.0,383.6 L191.0,381.5\n",
       "\t\tL192.1,379.5 L193.2,377.4 L194.3,375.4 L196.5,371.3 L198.7,367.2 L200.9,363.1 L203.1,359.0 L207.5,350.8\n",
       "\t\tL211.8,342.5 L216.2,334.3 L220.6,326.1 L225.0,317.9 L229.3,309.7 L233.7,301.5 L238.1,293.3 L242.5,285.1\n",
       "\t\tL246.9,276.9 L251.2,268.7 L255.6,260.5 L260.0,252.2 L264.4,244.0 L268.7,235.8 L273.1,227.6 L277.5,219.4\n",
       "\t\tL281.9,211.2 L286.3,203.0 L290.6,194.8 L295.0,186.6 L299.4,178.4 L303.8,170.2 L308.1,161.9 L309.2,159.9\n",
       "\t\tL310.3,157.8 L311.4,155.8 L312.5,153.7 L313.1,152.7 L313.6,151.7 L314.2,150.7 L314.7,149.6 L315.0,149.1\n",
       "\t\tL315.3,148.6 L315.5,148.1 L315.8,147.6 L315.9,147.3 L316.1,147.1 L316.2,146.8 L316.4,146.6 L316.5,146.3\n",
       "\t\tL316.6,146.0 L316.8,145.8 L316.9,383.6 L319.1,379.5 L321.3,375.4 L323.5,371.3 L325.7,367.2 L330.0,359.0\n",
       "\t\tL334.4,350.8 L338.8,342.5 L343.2,334.3 L347.5,326.1 L351.9,317.9 L356.3,309.7 L360.7,301.5 L365.1,293.3\n",
       "\t\tL369.4,285.1 L373.8,276.9 L378.2,268.7 L382.6,260.5 L386.9,252.2 L391.3,244.0 L395.7,235.8 L400.1,227.6\n",
       "\t\tL404.5,219.4 L408.8,211.2 L413.2,203.0 L417.6,194.8 L422.0,186.6 L426.3,178.4 L430.7,170.2 L432.9,166.1\n",
       "\t\tL435.1,161.9 L437.3,157.8 L439.5,153.7 L440.0,152.7 L440.6,151.7 L441.1,150.7 L441.7,149.6 L441.9,149.1\n",
       "\t\tL442.2,148.6 L442.5,148.1 L442.8,147.6 L442.9,147.3 L443.0,147.1 L443.2,146.8 L443.3,146.6 L443.4,146.3\n",
       "\t\tL443.6,146.0 L443.7,145.8 L443.9,383.6 L444.9,381.5 L446.0,379.5 L447.1,377.4 L448.2,375.4 L452.6,367.2\n",
       "\t\tL457.0,359.0 L461.4,350.8 L465.7,342.5 L470.1,334.3 L474.5,326.1 L478.9,317.9 L483.2,309.7 L487.6,301.5\n",
       "\t\tL492.0,293.3 L496.4,285.1 L500.8,276.9 L505.1,268.7 L509.5,260.5 L513.9,252.2 L518.3,244.0 L522.6,235.8\n",
       "\t\tL527.0,227.6 L531.4,219.4 L535.8,211.2 L540.2,203.0 L544.5,194.8 L548.9,186.6 L553.3,178.4 L555.5,174.3\n",
       "\t\tL557.7,170.2 L559.9,166.1 L562.0,161.9 L563.1,159.9 L564.2,157.8 L565.3,155.8 L566.4,153.7 L567.0,152.7\n",
       "\t\tL567.5,151.7 L568.1,150.7 L568.6,149.6 L568.9,149.1 L569.2,148.6 L569.4,148.1 L569.7,147.6 L569.8,147.3\n",
       "\t\tL570.0,147.1 L570.1,146.8 L570.3,146.6 L570.4,146.3 L570.5,146.0 L570.7,145.8 L570.8,383.6  '/></g>\n",
       "\t</g>\n",
       "\t<g id=\"gnuplot_plot_2\" ><title>((-floor(x))+x-1/2)/x2</title>\n",
       "<g fill=\"none\" color=\"black\" stroke=\"currentColor\" stroke-width=\"1.00\" stroke-linecap=\"butt\" stroke-linejoin=\"miter\">\n",
       "\t<g transform=\"translate(492.4,73.1)\" stroke=\"none\" fill=\"black\" font-family=\"Arial\" font-size=\"14.00\"  text-anchor=\"end\">\n",
       "\t\t<text><tspan font-family=\"Arial\" >((-floor(x))+x-1/2)/x</tspan><tspan font-family=\"Arial\"  font-size=\"11.2\" dy=\"-7.00px\">2</tspan><tspan font-size=\"14.0\" dy=\"7.00\"></tspan></text>\n",
       "\t</g>\n",
       "</g>\n",
       "<g fill=\"none\" color=\"black\" stroke=\"currentColor\" stroke-width=\"1.00\" stroke-linecap=\"butt\" stroke-linejoin=\"miter\">\n",
       "\t<path stroke='rgb(255,   0,   0)'  d='M502.1,68.5 L551.4,68.5 M63.0,383.6 L64.1,379.6 L65.2,375.6 L66.3,371.8 L67.4,368.1 L68.5,364.5\n",
       "\t\tL69.6,361.0 L70.7,357.7 L71.8,354.4 L72.8,351.2 L73.9,348.1 L75.0,345.0 L76.1,342.1 L77.2,339.2\n",
       "\t\tL78.3,336.5 L79.4,333.8 L80.5,331.1 L81.6,328.6 L82.7,326.1 L83.8,323.7 L84.9,321.3 L86.0,319.0\n",
       "\t\tL87.1,316.8 L88.2,314.6 L89.3,312.5 L90.4,310.4 L91.5,308.4 L92.5,306.4 L93.6,304.5 L94.7,302.7\n",
       "\t\tL95.8,300.8 L96.9,299.1 L98.0,297.3 L99.1,295.7 L100.2,294.0 L101.3,292.4 L102.4,290.9 L103.5,289.3\n",
       "\t\tL104.6,287.9 L105.7,286.4 L106.8,285.0 L107.9,283.6 L109.0,282.3 L110.1,280.9 L111.2,279.7 L112.2,278.4\n",
       "\t\tL113.3,277.2 L114.4,276.0 L115.5,274.8 L116.6,273.7 L117.7,272.6 L118.8,271.5 L119.9,270.4 L121.0,269.4\n",
       "\t\tL122.1,268.4 L123.2,267.4 L124.3,266.4 L125.4,265.5 L126.5,264.6 L127.6,263.7 L128.7,262.8 L129.8,261.9\n",
       "\t\tL130.9,261.1 L131.9,260.3 L133.0,259.4 L134.1,258.7 L135.2,257.9 L136.3,257.1 L137.4,256.4 L138.5,255.7\n",
       "\t\tL139.6,255.0 L140.7,254.3 L141.8,253.6 L142.9,253.0 L144.0,252.3 L145.1,251.7 L146.2,251.1 L147.3,250.5\n",
       "\t\tL148.4,249.9 L149.5,249.3 L150.6,248.7 L151.6,248.2 L152.7,247.7 L153.8,247.1 L154.9,246.6 L156.0,246.1\n",
       "\t\tL157.1,245.6 L158.2,245.1 L159.3,244.7 L160.4,244.2 L161.5,243.7 L162.6,243.3 L163.7,242.9 L164.8,242.4\n",
       "\t\tL165.9,242.0 L167.0,241.6 L168.1,241.2 L169.2,240.8 L170.3,240.4 L171.3,240.1 L172.4,239.7 L173.5,239.3\n",
       "\t\tL174.6,239.0 L175.7,238.7 L176.8,238.3 L177.9,238.0 L179.0,237.7 L180.1,237.4 L181.2,237.0 L182.3,236.7\n",
       "\t\tL183.4,236.4 L184.5,236.2 L185.6,235.9 L186.1,235.7 L186.7,235.6 L187.2,235.5 L187.8,235.3 L188.0,235.3\n",
       "\t\tL188.3,235.2 L188.6,235.1 L188.9,235.1 L189.0,235.0 L189.1,235.0 L189.3,235.0 L189.4,234.9 L189.5,234.9\n",
       "\t\tL189.7,234.9 L189.8,234.8 L190.0,294.3 L191.0,293.6 L192.1,292.8 L193.2,292.1 L194.3,291.3 L196.5,289.9\n",
       "\t\tL198.7,288.5 L200.9,287.2 L203.1,285.9 L205.3,284.6 L207.5,283.4 L209.6,282.2 L211.8,281.1 L214.0,280.0\n",
       "\t\tL216.2,278.9 L218.4,277.8 L220.6,276.8 L222.8,275.8 L225.0,274.9 L227.2,273.9 L229.3,273.0 L231.5,272.1\n",
       "\t\tL233.7,271.3 L235.9,270.4 L238.1,269.6 L240.3,268.9 L242.5,268.1 L244.7,267.3 L246.9,266.6 L249.0,265.9\n",
       "\t\tL251.2,265.2 L253.4,264.6 L255.6,263.9 L257.8,263.3 L260.0,262.7 L262.2,262.1 L264.4,261.5 L266.6,260.9\n",
       "\t\tL268.7,260.4 L270.9,259.8 L273.1,259.3 L275.3,258.8 L277.5,258.3 L279.7,257.8 L281.9,257.4 L284.1,256.9\n",
       "\t\tL286.3,256.5 L288.4,256.0 L290.6,255.6 L292.8,255.2 L295.0,254.8 L297.2,254.4 L299.4,254.0 L301.6,253.7\n",
       "\t\tL303.8,253.3 L306.0,253.0 L308.1,252.6 L309.2,252.5 L310.3,252.3 L311.4,252.1 L312.5,252.0 L313.1,251.9\n",
       "\t\tL313.6,251.8 L314.2,251.7 L314.7,251.6 L315.0,251.6 L315.3,251.6 L315.5,251.5 L315.8,251.5 L315.9,251.5\n",
       "\t\tL316.1,251.5 L316.2,251.4 L316.4,251.4 L316.5,251.4 L316.6,251.4 L316.8,251.4 L316.9,277.8 L319.1,277.2\n",
       "\t\tL321.3,276.6 L323.5,276.0 L325.7,275.5 L327.8,274.9 L330.0,274.4 L332.2,273.8 L334.4,273.3 L336.6,272.8\n",
       "\t\tL338.8,272.3 L341.0,271.8 L343.2,271.3 L345.4,270.9 L347.5,270.4 L349.7,270.0 L351.9,269.5 L354.1,269.1\n",
       "\t\tL356.3,268.7 L358.5,268.3 L360.7,267.9 L362.9,267.5 L365.1,267.1 L367.2,266.7 L369.4,266.3 L371.6,266.0\n",
       "\t\tL373.8,265.6 L376.0,265.2 L378.2,264.9 L380.4,264.6 L382.6,264.2 L384.8,263.9 L386.9,263.6 L389.1,263.3\n",
       "\t\tL391.3,263.0 L393.5,262.7 L395.7,262.4 L397.9,262.1 L400.1,261.8 L402.3,261.5 L404.5,261.2 L406.6,261.0\n",
       "\t\tL408.8,260.7 L411.0,260.5 L413.2,260.2 L415.4,260.0 L417.6,259.7 L419.8,259.5 L422.0,259.2 L424.2,259.0\n",
       "\t\tL426.3,258.8 L428.5,258.6 L430.7,258.3 L432.9,258.1 L435.1,257.9 L437.3,257.7 L439.5,257.5 L440.0,257.5\n",
       "\t\tL440.6,257.4 L441.1,257.4 L441.7,257.3 L441.9,257.3 L442.2,257.3 L442.5,257.2 L442.8,257.2 L442.9,257.2\n",
       "\t\tL443.0,257.2 L443.2,257.2 L443.3,257.2 L443.4,257.2 L443.6,257.1 L443.7,257.1 L443.9,272.0 L444.9,271.8\n",
       "\t\tL446.0,271.7 L447.1,271.5 L448.2,271.4 L450.4,271.1 L452.6,270.8 L454.8,270.5 L457.0,270.2 L459.2,269.9\n",
       "\t\tL461.4,269.6 L463.5,269.3 L465.7,269.0 L467.9,268.8 L470.1,268.5 L472.3,268.2 L474.5,268.0 L476.7,267.7\n",
       "\t\tL478.9,267.5 L481.1,267.2 L483.2,267.0 L485.4,266.8 L487.6,266.5 L489.8,266.3 L492.0,266.1 L494.2,265.8\n",
       "\t\tL496.4,265.6 L498.6,265.4 L500.8,265.2 L502.9,265.0 L505.1,264.8 L507.3,264.6 L509.5,264.4 L511.7,264.2\n",
       "\t\tL513.9,264.0 L516.1,263.8 L518.3,263.6 L520.5,263.4 L522.6,263.2 L524.8,263.0 L527.0,262.9 L529.2,262.7\n",
       "\t\tL531.4,262.5 L533.6,262.3 L535.8,262.2 L538.0,262.0 L540.2,261.8 L542.3,261.7 L544.5,261.5 L546.7,261.4\n",
       "\t\tL548.9,261.2 L551.1,261.1 L553.3,260.9 L555.5,260.8 L557.7,260.6 L559.9,260.5 L562.0,260.3 L563.1,260.3\n",
       "\t\tL564.2,260.2 L565.3,260.1 L566.4,260.1 L567.0,260.0 L567.5,260.0 L568.1,260.0 L568.6,259.9 L568.9,259.9\n",
       "\t\tL569.2,259.9 L569.4,259.9 L569.7,259.9 L569.8,259.9 L570.0,259.9 L570.1,259.8 L570.3,259.8 L570.4,259.8\n",
       "\t\tL570.5,259.8 L570.7,259.8 L570.8,269.3  '/></g>\n",
       "\t</g>\n",
       "\t<g id=\"gnuplot_plot_3\" ><title>1/x2</title>\n",
       "<g fill=\"none\" color=\"black\" stroke=\"currentColor\" stroke-width=\"1.00\" stroke-linecap=\"butt\" stroke-linejoin=\"miter\">\n",
       "\t<g transform=\"translate(492.4,94.1)\" stroke=\"none\" fill=\"black\" font-family=\"Arial\" font-size=\"14.00\"  text-anchor=\"end\">\n",
       "\t\t<text><tspan font-family=\"Arial\" >1/x</tspan><tspan font-family=\"Arial\"  font-size=\"11.2\" dy=\"-7.00px\">2</tspan><tspan font-size=\"14.0\" dy=\"7.00\"></tspan></text>\n",
       "\t</g>\n",
       "</g>\n",
       "<g fill=\"none\" color=\"black\" stroke=\"currentColor\" stroke-width=\"1.00\" stroke-linecap=\"butt\" stroke-linejoin=\"miter\">\n",
       "\t<path stroke='rgb(  0, 255,   0)'  d='M502.1,89.5 L551.4,89.5 M63.0,26.5 L64.1,30.6 L65.2,34.5 L66.3,38.4 L67.4,42.1 L68.5,45.8\n",
       "\t\tL69.6,49.3 L70.7,52.8 L71.8,56.2 L72.8,59.5 L73.9,62.8 L75.0,66.0 L76.1,69.0 L77.2,72.1\n",
       "\t\tL78.3,75.0 L79.4,77.9 L80.5,80.7 L81.6,83.5 L82.7,86.2 L83.8,88.8 L84.9,91.4 L86.0,93.9\n",
       "\t\tL87.1,96.4 L88.2,98.8 L89.3,101.1 L90.4,103.4 L91.5,105.7 L92.5,107.9 L93.6,110.1 L94.7,112.2\n",
       "\t\tL95.8,114.3 L96.9,116.3 L98.0,118.3 L99.1,120.3 L100.2,122.2 L101.3,124.1 L102.4,125.9 L103.5,127.7\n",
       "\t\tL104.6,129.5 L105.7,131.2 L106.8,132.9 L107.9,134.6 L109.0,136.2 L110.1,137.9 L111.2,139.4 L112.2,141.0\n",
       "\t\tL113.3,142.5 L114.4,144.0 L115.5,145.5 L116.6,146.9 L117.7,148.3 L118.8,149.7 L119.9,151.1 L121.0,152.4\n",
       "\t\tL122.1,153.7 L123.2,155.0 L124.3,156.3 L125.4,157.5 L126.5,158.8 L127.6,160.0 L128.7,161.1 L129.8,162.3\n",
       "\t\tL130.9,163.5 L131.9,164.6 L133.0,165.7 L134.1,166.8 L135.2,167.9 L136.3,168.9 L137.4,169.9 L138.5,171.0\n",
       "\t\tL139.6,172.0 L140.7,173.0 L141.8,173.9 L142.9,174.9 L144.0,175.8 L145.1,176.8 L146.2,177.7 L147.3,178.6\n",
       "\t\tL148.4,179.4 L149.5,180.3 L150.6,181.2 L151.6,182.0 L152.7,182.9 L153.8,183.7 L154.9,184.5 L156.0,185.3\n",
       "\t\tL157.1,186.1 L158.2,186.8 L159.3,187.6 L160.4,188.3 L161.5,189.1 L162.6,189.8 L163.7,190.5 L164.8,191.2\n",
       "\t\tL165.9,191.9 L167.0,192.6 L168.1,193.3 L169.2,194.0 L170.3,194.6 L171.3,195.3 L172.4,195.9 L173.5,196.5\n",
       "\t\tL174.6,197.2 L175.7,197.8 L176.8,198.4 L177.9,199.0 L179.0,199.6 L180.1,200.1 L181.2,200.7 L182.3,201.3\n",
       "\t\tL183.4,201.8 L184.5,202.4 L185.6,202.9 L186.7,203.5 L187.8,204.0 L188.9,204.5 L190.0,205.0 L191.0,205.6\n",
       "\t\tL192.1,206.1 L193.2,206.6 L194.3,207.0 L195.4,207.5 L196.5,208.0 L197.6,208.5 L198.7,208.9 L199.8,209.4\n",
       "\t\tL200.9,209.9 L202.0,210.3 L203.1,210.8 L204.2,211.2 L205.3,211.6 L206.4,212.1 L207.5,212.5 L208.6,212.9\n",
       "\t\tL209.6,213.3 L210.7,213.7 L211.8,214.1 L214.0,214.9 L216.2,215.7 L218.4,216.4 L220.6,217.2 L222.8,217.9\n",
       "\t\tL225.0,218.6 L227.2,219.3 L229.3,220.0 L231.5,220.6 L233.7,221.3 L235.9,221.9 L238.1,222.5 L240.3,223.1\n",
       "\t\tL242.5,223.7 L244.7,224.3 L246.9,224.8 L249.0,225.4 L251.2,225.9 L253.4,226.5 L255.6,227.0 L257.8,227.5\n",
       "\t\tL260.0,228.0 L262.2,228.5 L264.4,229.0 L266.6,229.4 L268.7,229.9 L270.9,230.4 L273.1,230.8 L275.3,231.2\n",
       "\t\tL277.5,231.7 L279.7,232.1 L281.9,232.5 L284.1,232.9 L286.3,233.3 L288.4,233.7 L290.6,234.0 L292.8,234.4\n",
       "\t\tL295.0,234.8 L297.2,235.1 L299.4,235.5 L301.6,235.8 L303.8,236.2 L306.0,236.5 L308.1,236.9 L310.3,237.2\n",
       "\t\tL312.5,237.5 L314.7,237.8 L316.9,238.1 L319.1,238.4 L321.3,238.7 L323.5,239.0 L325.7,239.3 L327.8,239.6\n",
       "\t\tL330.0,239.8 L332.2,240.1 L334.4,240.4 L336.6,240.6 L338.8,240.9 L341.0,241.2 L343.2,241.4 L345.4,241.7\n",
       "\t\tL347.5,241.9 L349.7,242.1 L351.9,242.4 L354.1,242.6 L356.3,242.8 L358.5,243.1 L360.7,243.3 L362.9,243.5\n",
       "\t\tL365.1,243.7 L367.2,243.9 L369.4,244.1 L371.6,244.3 L373.8,244.5 L376.0,244.7 L378.2,244.9 L380.4,245.1\n",
       "\t\tL382.6,245.3 L384.8,245.5 L386.9,245.7 L389.1,245.9 L391.3,246.1 L393.5,246.2 L395.7,246.4 L397.9,246.6\n",
       "\t\tL400.1,246.7 L402.3,246.9 L404.5,247.1 L406.6,247.2 L408.8,247.4 L411.0,247.6 L413.2,247.7 L415.4,247.9\n",
       "\t\tL417.6,248.0 L419.8,248.2 L422.0,248.3 L424.2,248.5 L426.3,248.6 L428.5,248.7 L430.7,248.9 L432.9,249.0\n",
       "\t\tL435.1,249.2 L437.3,249.3 L439.5,249.4 L441.7,249.6 L443.9,249.7 L446.0,249.8 L448.2,249.9 L450.4,250.1\n",
       "\t\tL452.6,250.2 L454.8,250.3 L457.0,250.4 L459.2,250.5 L461.4,250.7 L463.5,250.8 L465.7,250.9 L467.9,251.0\n",
       "\t\tL470.1,251.1 L472.3,251.2 L474.5,251.3 L476.7,251.4 L478.9,251.5 L481.1,251.6 L483.2,251.7 L485.4,251.9\n",
       "\t\tL487.6,252.0 L489.8,252.1 L492.0,252.1 L494.2,252.2 L496.4,252.3 L498.6,252.4 L500.8,252.5 L502.9,252.6\n",
       "\t\tL505.1,252.7 L507.3,252.8 L509.5,252.9 L511.7,253.0 L513.9,253.1 L516.1,253.2 L518.3,253.2 L520.5,253.3\n",
       "\t\tL522.6,253.4 L524.8,253.5 L527.0,253.6 L529.2,253.7 L531.4,253.7 L533.6,253.8 L535.8,253.9 L538.0,254.0\n",
       "\t\tL540.2,254.0 L542.3,254.1 L544.5,254.2 L546.7,254.3 L548.9,254.3 L551.1,254.4 L553.3,254.5 L555.5,254.6\n",
       "\t\tL557.7,254.6 L559.9,254.7 L562.0,254.8 L564.2,254.8 L566.4,254.9 L568.6,255.0 L570.8,255.0  '/></g>\n",
       "\t</g>\n",
       "<g fill=\"none\" color=\"black\" stroke=\"currentColor\" stroke-width=\"1.00\" stroke-linecap=\"butt\" stroke-linejoin=\"miter\">\n",
       "\t<path stroke='black'  d='M63.0,407.4 L73.5,407.4 M570.8,407.4 L560.3,407.4  '/>\t<g transform=\"translate(53.3,412.0)\" stroke=\"none\" fill=\"black\" font-family=\"Arial\" font-size=\"14.00\"  text-anchor=\"end\">\n",
       "\t\t<text><tspan font-family=\"Arial\" >-0.6</tspan></text>\n",
       "\t</g>\n",
       "</g>\n",
       "<g fill=\"none\" color=\"black\" stroke=\"currentColor\" stroke-width=\"1.00\" stroke-linecap=\"butt\" stroke-linejoin=\"miter\">\n",
       "\t<path stroke='black'  d='M63.0,359.8 L73.5,359.8 M570.8,359.8 L560.3,359.8  '/>\t<g transform=\"translate(53.3,364.4)\" stroke=\"none\" fill=\"black\" font-family=\"Arial\" font-size=\"14.00\"  text-anchor=\"end\">\n",
       "\t\t<text><tspan font-family=\"Arial\" >-0.4</tspan></text>\n",
       "\t</g>\n",
       "</g>\n",
       "<g fill=\"none\" color=\"black\" stroke=\"currentColor\" stroke-width=\"1.00\" stroke-linecap=\"butt\" stroke-linejoin=\"miter\">\n",
       "\t<path stroke='black'  d='M63.0,312.2 L73.5,312.2 M570.8,312.2 L560.3,312.2  '/>\t<g transform=\"translate(53.3,316.8)\" stroke=\"none\" fill=\"black\" font-family=\"Arial\" font-size=\"14.00\"  text-anchor=\"end\">\n",
       "\t\t<text><tspan font-family=\"Arial\" >-0.2</tspan></text>\n",
       "\t</g>\n",
       "</g>\n",
       "<g fill=\"none\" color=\"black\" stroke=\"currentColor\" stroke-width=\"1.00\" stroke-linecap=\"butt\" stroke-linejoin=\"miter\">\n",
       "\t<path stroke='black'  d='M63.0,264.6 L73.5,264.6 M570.8,264.6 L560.3,264.6  '/>\t<g transform=\"translate(53.3,269.2)\" stroke=\"none\" fill=\"black\" font-family=\"Arial\" font-size=\"14.00\"  text-anchor=\"end\">\n",
       "\t\t<text><tspan font-family=\"Arial\" > 0</tspan></text>\n",
       "\t</g>\n",
       "</g>\n",
       "<g fill=\"none\" color=\"black\" stroke=\"currentColor\" stroke-width=\"1.00\" stroke-linecap=\"butt\" stroke-linejoin=\"miter\">\n",
       "\t<path stroke='black'  d='M63.0,216.9 L73.5,216.9 M570.8,216.9 L560.3,216.9  '/>\t<g transform=\"translate(53.3,221.5)\" stroke=\"none\" fill=\"black\" font-family=\"Arial\" font-size=\"14.00\"  text-anchor=\"end\">\n",
       "\t\t<text><tspan font-family=\"Arial\" > 0.2</tspan></text>\n",
       "\t</g>\n",
       "</g>\n",
       "<g fill=\"none\" color=\"black\" stroke=\"currentColor\" stroke-width=\"1.00\" stroke-linecap=\"butt\" stroke-linejoin=\"miter\">\n",
       "\t<path stroke='black'  d='M63.0,169.3 L73.5,169.3 M570.8,169.3 L560.3,169.3  '/>\t<g transform=\"translate(53.3,173.9)\" stroke=\"none\" fill=\"black\" font-family=\"Arial\" font-size=\"14.00\"  text-anchor=\"end\">\n",
       "\t\t<text><tspan font-family=\"Arial\" > 0.4</tspan></text>\n",
       "\t</g>\n",
       "</g>\n",
       "<g fill=\"none\" color=\"black\" stroke=\"currentColor\" stroke-width=\"1.00\" stroke-linecap=\"butt\" stroke-linejoin=\"miter\">\n",
       "\t<path stroke='black'  d='M63.0,121.7 L73.5,121.7 M570.8,121.7 L560.3,121.7  '/>\t<g transform=\"translate(53.3,126.3)\" stroke=\"none\" fill=\"black\" font-family=\"Arial\" font-size=\"14.00\"  text-anchor=\"end\">\n",
       "\t\t<text><tspan font-family=\"Arial\" > 0.6</tspan></text>\n",
       "\t</g>\n",
       "</g>\n",
       "<g fill=\"none\" color=\"black\" stroke=\"currentColor\" stroke-width=\"1.00\" stroke-linecap=\"butt\" stroke-linejoin=\"miter\">\n",
       "\t<path stroke='black'  d='M63.0,74.1 L73.5,74.1 M570.8,74.1 L560.3,74.1  '/>\t<g transform=\"translate(53.3,78.7)\" stroke=\"none\" fill=\"black\" font-family=\"Arial\" font-size=\"14.00\"  text-anchor=\"end\">\n",
       "\t\t<text><tspan font-family=\"Arial\" > 0.8</tspan></text>\n",
       "\t</g>\n",
       "</g>\n",
       "<g fill=\"none\" color=\"black\" stroke=\"currentColor\" stroke-width=\"1.00\" stroke-linecap=\"butt\" stroke-linejoin=\"miter\">\n",
       "\t<path stroke='black'  d='M63.0,26.5 L73.5,26.5 M570.8,26.5 L560.3,26.5  '/>\t<g transform=\"translate(53.3,31.1)\" stroke=\"none\" fill=\"black\" font-family=\"Arial\" font-size=\"14.00\"  text-anchor=\"end\">\n",
       "\t\t<text><tspan font-family=\"Arial\" > 1</tspan></text>\n",
       "\t</g>\n",
       "</g>\n",
       "<g fill=\"none\" color=\"black\" stroke=\"currentColor\" stroke-width=\"1.00\" stroke-linecap=\"butt\" stroke-linejoin=\"miter\">\n",
       "\t<path stroke='black'  d='M63.0,407.4 L63.0,396.9 M63.0,26.5 L63.0,37.0  '/>\t<g transform=\"translate(63.0,433.0)\" stroke=\"none\" fill=\"black\" font-family=\"Arial\" font-size=\"14.00\"  text-anchor=\"middle\">\n",
       "\t\t<text><tspan font-family=\"Arial\" > 1</tspan></text>\n",
       "\t</g>\n",
       "</g>\n",
       "<g fill=\"none\" color=\"black\" stroke=\"currentColor\" stroke-width=\"1.00\" stroke-linecap=\"butt\" stroke-linejoin=\"miter\">\n",
       "\t<path stroke='black'  d='M126.5,407.4 L126.5,396.9 M126.5,26.5 L126.5,37.0  '/>\t<g transform=\"translate(126.5,433.0)\" stroke=\"none\" fill=\"black\" font-family=\"Arial\" font-size=\"14.00\"  text-anchor=\"middle\">\n",
       "\t\t<text><tspan font-family=\"Arial\" > 1.5</tspan></text>\n",
       "\t</g>\n",
       "</g>\n",
       "<g fill=\"none\" color=\"black\" stroke=\"currentColor\" stroke-width=\"1.00\" stroke-linecap=\"butt\" stroke-linejoin=\"miter\">\n",
       "\t<path stroke='black'  d='M190.0,407.4 L190.0,396.9 M190.0,26.5 L190.0,37.0  '/>\t<g transform=\"translate(190.0,433.0)\" stroke=\"none\" fill=\"black\" font-family=\"Arial\" font-size=\"14.00\"  text-anchor=\"middle\">\n",
       "\t\t<text><tspan font-family=\"Arial\" > 2</tspan></text>\n",
       "\t</g>\n",
       "</g>\n",
       "<g fill=\"none\" color=\"black\" stroke=\"currentColor\" stroke-width=\"1.00\" stroke-linecap=\"butt\" stroke-linejoin=\"miter\">\n",
       "\t<path stroke='black'  d='M253.4,407.4 L253.4,396.9 M253.4,26.5 L253.4,37.0  '/>\t<g transform=\"translate(253.4,433.0)\" stroke=\"none\" fill=\"black\" font-family=\"Arial\" font-size=\"14.00\"  text-anchor=\"middle\">\n",
       "\t\t<text><tspan font-family=\"Arial\" > 2.5</tspan></text>\n",
       "\t</g>\n",
       "</g>\n",
       "<g fill=\"none\" color=\"black\" stroke=\"currentColor\" stroke-width=\"1.00\" stroke-linecap=\"butt\" stroke-linejoin=\"miter\">\n",
       "\t<path stroke='black'  d='M316.9,407.4 L316.9,396.9 M316.9,26.5 L316.9,37.0  '/>\t<g transform=\"translate(316.9,433.0)\" stroke=\"none\" fill=\"black\" font-family=\"Arial\" font-size=\"14.00\"  text-anchor=\"middle\">\n",
       "\t\t<text><tspan font-family=\"Arial\" > 3</tspan></text>\n",
       "\t</g>\n",
       "</g>\n",
       "<g fill=\"none\" color=\"black\" stroke=\"currentColor\" stroke-width=\"1.00\" stroke-linecap=\"butt\" stroke-linejoin=\"miter\">\n",
       "\t<path stroke='black'  d='M380.4,407.4 L380.4,396.9 M380.4,26.5 L380.4,37.0  '/>\t<g transform=\"translate(380.4,433.0)\" stroke=\"none\" fill=\"black\" font-family=\"Arial\" font-size=\"14.00\"  text-anchor=\"middle\">\n",
       "\t\t<text><tspan font-family=\"Arial\" > 3.5</tspan></text>\n",
       "\t</g>\n",
       "</g>\n",
       "<g fill=\"none\" color=\"black\" stroke=\"currentColor\" stroke-width=\"1.00\" stroke-linecap=\"butt\" stroke-linejoin=\"miter\">\n",
       "\t<path stroke='black'  d='M443.9,407.4 L443.9,396.9 M443.9,26.5 L443.9,37.0  '/>\t<g transform=\"translate(443.9,433.0)\" stroke=\"none\" fill=\"black\" font-family=\"Arial\" font-size=\"14.00\"  text-anchor=\"middle\">\n",
       "\t\t<text><tspan font-family=\"Arial\" > 4</tspan></text>\n",
       "\t</g>\n",
       "</g>\n",
       "<g fill=\"none\" color=\"black\" stroke=\"currentColor\" stroke-width=\"1.00\" stroke-linecap=\"butt\" stroke-linejoin=\"miter\">\n",
       "\t<path stroke='black'  d='M507.3,407.4 L507.3,396.9 M507.3,26.5 L507.3,37.0  '/>\t<g transform=\"translate(507.3,433.0)\" stroke=\"none\" fill=\"black\" font-family=\"Arial\" font-size=\"14.00\"  text-anchor=\"middle\">\n",
       "\t\t<text><tspan font-family=\"Arial\" > 4.5</tspan></text>\n",
       "\t</g>\n",
       "</g>\n",
       "<g fill=\"none\" color=\"black\" stroke=\"currentColor\" stroke-width=\"1.00\" stroke-linecap=\"butt\" stroke-linejoin=\"miter\">\n",
       "\t<path stroke='black'  d='M570.8,407.4 L570.8,396.9 M570.8,26.5 L570.8,37.0  '/>\t<g transform=\"translate(570.8,433.0)\" stroke=\"none\" fill=\"black\" font-family=\"Arial\" font-size=\"14.00\"  text-anchor=\"middle\">\n",
       "\t\t<text><tspan font-family=\"Arial\" > 5</tspan></text>\n",
       "\t</g>\n",
       "</g>\n",
       "<g fill=\"none\" color=\"black\" stroke=\"currentColor\" stroke-width=\"1.00\" stroke-linecap=\"butt\" stroke-linejoin=\"miter\">\n",
       "</g>\n",
       "<g fill=\"none\" color=\"gray\" stroke=\"currentColor\" stroke-width=\"1.00\" stroke-linecap=\"butt\" stroke-linejoin=\"miter\">\n",
       "\t<path stroke='black' stroke-dasharray='2,4'  d='M63.0,264.6 L570.8,264.6  '/></g>\n",
       "<g fill=\"none\" color=\"gray\" stroke=\"black\" stroke-width=\"2.00\" stroke-linecap=\"butt\" stroke-linejoin=\"miter\">\n",
       "</g>\n",
       "<g fill=\"none\" color=\"black\" stroke=\"currentColor\" stroke-width=\"2.00\" stroke-linecap=\"butt\" stroke-linejoin=\"miter\">\n",
       "</g>\n",
       "<g fill=\"none\" color=\"black\" stroke=\"black\" stroke-width=\"1.00\" stroke-linecap=\"butt\" stroke-linejoin=\"miter\">\n",
       "</g>\n",
       "<g fill=\"none\" color=\"black\" stroke=\"currentColor\" stroke-width=\"1.00\" stroke-linecap=\"butt\" stroke-linejoin=\"miter\">\n",
       "\t<path stroke='black'  d='M63.0,26.5 L63.0,407.4 L570.8,407.4 L570.8,26.5 L63.0,26.5 Z  '/></g>\n",
       "<g fill=\"none\" color=\"black\" stroke=\"currentColor\" stroke-width=\"1.00\" stroke-linecap=\"butt\" stroke-linejoin=\"miter\">\n",
       "</g>\n",
       "</g>\n",
       "</svg>\n",
       "\n"
      ],
      "text/plain": [
       "/tmp/maxplot.svg"
      ]
     },
     "metadata": {},
     "output_type": "display_data"
    }
   ],
   "source": [
    "plot2d([bernpoly(x-floor(x),1),bernpoly(x-floor(x),1)/x^2,1/x^2],[x,1,5])$"
   ]
  },
  {
   "cell_type": "code",
   "execution_count": 10,
   "metadata": {},
   "outputs": [
    {
     "data": {
      "text/latex": [
       "\\[\\tag{${\\it \\%o}_{11}$}-\\sum_{k=1}^{M-1}{\\left(\\log \\left(k+1\\right)-\\log k+\\frac{1}{2\\,k+2}+\\frac{k}{k+1}-\\frac{1}{2\\,k}-1\\right)}\\]"
      ],
      "text/plain": [
       "             M - 1\n",
       "             ====\n",
       "             \\                               1        k      1\n",
       "(%o11)     -  >    (log(k + 1) - log(k) + ------- + ----- - --- - 1)\n",
       "             /                            2 k + 2   k + 1   2 k\n",
       "             ====\n",
       "             k = 1"
      ],
      "text/x-maxima": [
       "-'sum(log(k+1)-log(k)+1/(2*k+2)+k/(k+1)-1/(2*k)-1,k,1,M-1)"
      ]
     },
     "execution_count": 10,
     "metadata": {},
     "output_type": "execute_result"
    }
   ],
   "source": [
    "apply1(first(rhs(EuGamma)), emsRemInt);"
   ]
  },
  {
   "cell_type": "code",
   "execution_count": 11,
   "metadata": {},
   "outputs": [
    {
     "data": {
      "text/latex": [
       "\\[\\tag{${\\it \\%o}_{12}$}0.0772073316515306\\]"
      ],
      "text/plain": [
       "(%o12)                        0.0772073316515306"
      ],
      "text/x-maxima": [
       "0.0772073316515306"
      ]
     },
     "execution_count": 11,
     "metadata": {},
     "output_type": "execute_result"
    }
   ],
   "source": [
    "rem:%,M:100,nouns,numer;"
   ]
  },
  {
   "cell_type": "code",
   "execution_count": 12,
   "metadata": {},
   "outputs": [
    {
     "data": {
      "text/latex": [
       "\\[\\tag{${\\it \\%o}_{13}$}0.5772073316515306\\]"
      ],
      "text/plain": [
       "(%o13)                        0.5772073316515306"
      ],
      "text/x-maxima": [
       "0.5772073316515306"
      ]
     },
     "execution_count": 12,
     "metadata": {},
     "output_type": "execute_result"
    }
   ],
   "source": [
    "limit(rest(rhs(EuGamma)),M,inf)+rem,numer;"
   ]
  },
  {
   "cell_type": "code",
   "execution_count": 13,
   "metadata": {},
   "outputs": [
    {
     "data": {
      "text/latex": [
       "\\[\\tag{${\\it \\%o}_{14}$}0.5772156649015329\\]"
      ],
      "text/plain": [
       "(%o14)                        0.5772156649015329"
      ],
      "text/x-maxima": [
       "0.5772156649015329"
      ]
     },
     "execution_count": 13,
     "metadata": {},
     "output_type": "execute_result"
    }
   ],
   "source": [
    "%gamma,numer;"
   ]
  },
  {
   "cell_type": "code",
   "execution_count": null,
   "metadata": {},
   "outputs": [],
   "source": []
  },
  {
   "cell_type": "code",
   "execution_count": 14,
   "metadata": {},
   "outputs": [
    {
     "name": "stdout",
     "output_type": "stream",
     "text": [
      "Is M - 9999 positive, negative or zero?\n",
      "pos;\n",
      "\n"
     ]
    },
    {
     "data": {
      "text/latex": [
       "\\[\\tag{${\\it \\%o}_{15}$}\\sum_{n=10000}^{M}{\\frac{1}{n}}=-\\int_{10000}^{M}{\\frac{\\overline{B}_{6}\\left(x\\right)}{x^7}\\;dx}+\\log M+\\frac{1}{2\\,M}+\\frac{\\frac{1}{100000000}-\\frac{1}{M^2}}{12}-\\frac{\\frac{3}{5000000000000000}-\\frac{6}{M^4}}{720}+\\frac{\\frac{3}{25000000000000000000000}-\\frac{120}{M^6}}{30240}-\\log 10000+\\frac{1}{20000}\\]"
      ],
      "text/plain": [
       "        M                M\n",
       "       ====             /\n",
       "       \\         1      [      periodic_bernpoly(x, 6)                 1\n",
       "(%o15)  >        - = (- I      ----------------------- dx) + log(M) + ---\n",
       "       /         n      ]                 7                           2 M\n",
       "       ====             /                x\n",
       "       n = 10000         10000\n",
       "       1       1           3           6               3              120\n",
       "   --------- - --   ---------------- - --   ----------------------- - ---\n",
       "   100000000    2   5000000000000000    4   25000000000000000000000    6\n",
       "               M                       M                              M\n",
       " + -------------- - --------------------- + -----------------------------\n",
       "         12                  720                        30240\n",
       "                  1\n",
       " - log(10000) + -----\n",
       "                20000"
      ],
      "text/x-maxima": [
       "'sum(1/n,n,10000,M) = (-'integrate(periodic_bernpoly(x,6)/x^7,x,10000,M))\n",
       "                    +log(M)+1/(2*M)+(1/100000000-1/M^2)/12\n",
       "                    -(3/5000000000000000-6/M^4)/720\n",
       "                    +(3/25000000000000000000000-120/M^6)/30240-log(10000)\n",
       "                    +1/20000"
      ]
     },
     "execution_count": 14,
     "metadata": {},
     "output_type": "execute_result"
    }
   ],
   "source": [
    "ems,f(x):=1/x,N:10000,K:6,nouns;"
   ]
  },
  {
   "cell_type": "code",
   "execution_count": 15,
   "metadata": {},
   "outputs": [
    {
     "data": {
      "text/latex": [
       "\\[\\tag{${\\it \\%o}_{16}$}\\sum_{n=10000}^{M}{\\frac{1}{n}}-\\log M=-\\int_{10000}^{M}{\\frac{\\overline{B}_{6}\\left(x\\right)}{x^7}\\;dx}+\\frac{1}{2\\,M}+\\frac{\\frac{1}{100000000}-\\frac{1}{M^2}}{12}-\\frac{\\frac{3}{5000000000000000}-\\frac{6}{M^4}}{720}+\\frac{\\frac{3}{25000000000000000000000}-\\frac{120}{M^6}}{30240}-\\log 10000+\\frac{1}{20000}\\]"
      ],
      "text/plain": [
       "        M                         M\n",
       "       ====                      /\n",
       "       \\         1               [      periodic_bernpoly(x, 6)        1\n",
       "(%o16)  >        - - log(M) = (- I      ----------------------- dx) + ---\n",
       "       /         n               ]                 7                  2 M\n",
       "       ====                      /                x\n",
       "       n = 10000                  10000\n",
       "       1       1           3           6               3              120\n",
       "   --------- - --   ---------------- - --   ----------------------- - ---\n",
       "   100000000    2   5000000000000000    4   25000000000000000000000    6\n",
       "               M                       M                              M\n",
       " + -------------- - --------------------- + -----------------------------\n",
       "         12                  720                        30240\n",
       "                  1\n",
       " - log(10000) + -----\n",
       "                20000"
      ],
      "text/x-maxima": [
       "'sum(1/n,n,10000,M)-log(M) = (-'integrate(periodic_bernpoly(x,6)/x^7,x,10000,\n",
       "                                          M))\n",
       "                           +1/(2*M)+(1/100000000-1/M^2)/12\n",
       "                           -(3/5000000000000000-6/M^4)/720\n",
       "                           +(3/25000000000000000000000-120/M^6)/30240\n",
       "                           -log(10000)+1/20000"
      ]
     },
     "execution_count": 15,
     "metadata": {},
     "output_type": "execute_result"
    }
   ],
   "source": [
    "EuGamma:%-log(M);"
   ]
  },
  {
   "cell_type": "code",
   "execution_count": 16,
   "metadata": {},
   "outputs": [
    {
     "data": {
      "text/latex": [
       "\\[\\tag{${\\it \\%o}_{17}$}\\left(x-1\\right)\\,x\\,\\left(2\\,x-1\\right)\\,\\left(3\\,x^2-3\\,x-1\\right)\\]"
      ],
      "text/plain": [
       "                                             2\n",
       "(%o17)               (x - 1) x (2 x - 1) (3 x  - 3 x - 1)"
      ],
      "text/x-maxima": [
       "(x-1)*x*(2*x-1)*(3*x^2-3*x-1)"
      ]
     },
     "execution_count": 16,
     "metadata": {},
     "output_type": "execute_result"
    }
   ],
   "source": [
    "diff(bernpoly(x,6),x),factor;"
   ]
  },
  {
   "cell_type": "code",
   "execution_count": 29,
   "metadata": {},
   "outputs": [
    {
     "data": {
      "text/latex": [
       "\\[\\tag{${\\it \\%o}_{30}$}\\left[ \\frac{1}{42} , -\\frac{31}{1344} , \\frac{1}{42} \\right] \\]"
      ],
      "text/plain": [
       "                                1      31   1\n",
       "(%o30)                         [--, - ----, --]\n",
       "                                42    1344  42"
      ],
      "text/x-maxima": [
       "[1/42,-31/1344,1/42]"
      ]
     },
     "execution_count": 29,
     "metadata": {},
     "output_type": "execute_result"
    }
   ],
   "source": [
    "[bernpoly(0,6),bernpoly(1/2,6),bernpoly(1,6)];"
   ]
  },
  {
   "cell_type": "code",
   "execution_count": 30,
   "metadata": {},
   "outputs": [
    {
     "data": {
      "text/latex": [
       "\\[\\tag{${\\it \\%o}_{31}$}\\left[ \\frac{1}{252000000000000000000000000} , 3.968253968253969 \\times 10^{-27} \\right] \\]"
      ],
      "text/plain": [
       "                           1\n",
       "(%o31)       [---------------------------, 3.968253968253969e-27]\n",
       "              252000000000000000000000000"
      ],
      "text/x-maxima": [
       "[1/252000000000000000000000000,3.968253968253969e-27]"
      ]
     },
     "execution_count": 30,
     "metadata": {},
     "output_type": "execute_result"
    }
   ],
   "source": [
    "[err:integrate(%[1]/x^7,x,10000,inf),ev(err,numer)];"
   ]
  },
  {
   "cell_type": "code",
   "execution_count": 19,
   "metadata": {},
   "outputs": [
    {
     "data": {
      "text/latex": [
       "\\[\\tag{${\\it \\%o}_{20}$}30\\]"
      ],
      "text/plain": [
       "(%o20)                                30"
      ],
      "text/x-maxima": [
       "30"
      ]
     },
     "execution_count": 19,
     "metadata": {},
     "output_type": "execute_result"
    }
   ],
   "source": [
    "fpprec:30;"
   ]
  },
  {
   "cell_type": "code",
   "execution_count": 20,
   "metadata": {},
   "outputs": [
    {
     "data": {
      "text/latex": [
       "\\[\\tag{${\\it \\%o}_{21}$}5.77215664901532860606512090082_B \\times 10^{-1}\\]"
      ],
      "text/plain": [
       "(%o21)                5.77215664901532860606512090082b-1"
      ],
      "text/x-maxima": [
       "5.77215664901532860606512090082b-1"
      ]
     },
     "execution_count": 20,
     "metadata": {},
     "output_type": "execute_result"
    }
   ],
   "source": [
    "bfloat(sum(1/n,n,1,9999)+limit(rest(rhs(EuGamma)),M,inf));"
   ]
  },
  {
   "cell_type": "code",
   "execution_count": 21,
   "metadata": {},
   "outputs": [
    {
     "data": {
      "text/latex": [
       "\\[\\tag{${\\it \\%o}_{22}$}5.77215664901532860606512090082_B \\times 10^{-1}\\]"
      ],
      "text/plain": [
       "(%o22)                5.77215664901532860606512090082b-1"
      ],
      "text/x-maxima": [
       "5.77215664901532860606512090082b-1"
      ]
     },
     "execution_count": 21,
     "metadata": {},
     "output_type": "execute_result"
    }
   ],
   "source": [
    "bfloat(%gamma);"
   ]
  }
 ],
 "metadata": {
  "kernelspec": {
   "display_name": "Maxima",
   "language": "maxima",
   "name": "maxima"
  },
  "language_info": {
   "codemirror_mode": "maxima",
   "file_extension": ".mac",
   "mimetype": "text/x-maxima",
   "name": "maxima",
   "pygments_lexer": "maxima",
   "version": "5.43.2"
  }
 },
 "nbformat": 4,
 "nbformat_minor": 4
}
