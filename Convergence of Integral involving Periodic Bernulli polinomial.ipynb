{
 "cells": [
  {
   "cell_type": "markdown",
   "metadata": {},
   "source": [
    "# Evaluation of an integral involving Periodic Bernulli Polynomial\n",
    "### written by Yasuaki Honda @ gmail doc com\n",
    "\n",
    "Reference: Improper Integrals, R. C. Daileda, http://ramanujan.math.trinity.edu/rdaileda/teach/m4342f10/improper_integrals.pdf"
   ]
  },
  {
   "cell_type": "code",
   "execution_count": 1,
   "metadata": {},
   "outputs": [
    {
     "data": {
      "text/latex": [
       "\\[\\tag{${\\it \\%o}_{1}$}\\left[ \\mbox{ /root/quicklisp/dists/quicklisp/archives/euler-maclaurin-sum-master.gz } , \\mbox{ /root/quicklisp/local-projects/YasuakiHonda-euler-maclaurin-sum-41873c1/ } \\right] \\]"
      ],
      "text/plain": [
       "(%o1) [/root/quicklisp/dists/quicklisp/archives/euler-maclaurin-sum-master.gz, \n",
       "      /root/quicklisp/local-projects/YasuakiHonda-euler-maclaurin-sum-41873c1/]"
      ],
      "text/x-maxima": [
       "[\"/root/quicklisp/dists/quicklisp/archives/euler-maclaurin-sum-master.gz\",\n",
       " \"/root/quicklisp/local-projects/YasuakiHonda-euler-maclaurin-sum-41873c1/\"]"
      ]
     },
     "execution_count": 1,
     "metadata": {},
     "output_type": "execute_result"
    }
   ],
   "source": [
    "install_github(\"YasuakiHonda\",\"euler-maclaurin-sum\",\"master\");"
   ]
  },
  {
   "cell_type": "code",
   "execution_count": 2,
   "metadata": {},
   "outputs": [
    {
     "data": {
      "text/latex": [
       "\\[\\tag{${\\it \\%o}_{2}$}\\#<LOAD-SOURCE-OP >\\]"
      ],
      "text/plain": [
       "(%o2)                         #<LOAD-SOURCE-OP >"
      ],
      "text/x-maxima": [
       "\\#\\<LOAD\\-SOURCE\\-OP\\ \\>"
      ]
     },
     "execution_count": 2,
     "metadata": {},
     "output_type": "execute_result"
    }
   ],
   "source": [
    "asdf_load_source(\"euler-maclaurin-sum\");"
   ]
  },
  {
   "cell_type": "code",
   "execution_count": 3,
   "metadata": {},
   "outputs": [
    {
     "data": {
      "text/latex": [
       "\\[\\tag{${\\it \\%o}_{3}$}\\left[ M>N \\right] \\]"
      ],
      "text/plain": [
       "(%o3)                               [M > N]"
      ],
      "text/x-maxima": [
       "[M > N]"
      ]
     },
     "execution_count": 3,
     "metadata": {},
     "output_type": "execute_result"
    },
    {
     "data": {
      "text/latex": [
       "\\[\\tag{${\\it \\%o}_{4}$}\\left[ N\\geq 1 \\right] \\]"
      ],
      "text/plain": [
       "(%o4)                              [N >= 1]"
      ],
      "text/x-maxima": [
       "[N >= 1]"
      ]
     },
     "execution_count": 3,
     "metadata": {},
     "output_type": "execute_result"
    },
    {
     "data": {
      "text/latex": [
       "\\[\\tag{${\\it \\%o}_{5}$}\\left[ s>1 \\right] \\]"
      ],
      "text/plain": [
       "(%o5)                               [s > 1]"
      ],
      "text/x-maxima": [
       "[s > 1]"
      ]
     },
     "execution_count": 3,
     "metadata": {},
     "output_type": "execute_result"
    },
    {
     "data": {
      "text/latex": [
       "\\[\\tag{${\\it \\%o}_{6}$}\\left[ x\\geq N \\right] \\]"
      ],
      "text/plain": [
       "(%o6)                              [x >= N]"
      ],
      "text/x-maxima": [
       "[x >= N]"
      ]
     },
     "execution_count": 3,
     "metadata": {},
     "output_type": "execute_result"
    }
   ],
   "source": [
    "assume(M>N);assume(N>=1);assume(s>1);assume(x>=N);"
   ]
  },
  {
   "cell_type": "code",
   "execution_count": 4,
   "metadata": {},
   "outputs": [
    {
     "data": {
      "text/latex": [
       "\\[\\tag{${\\it \\%o}_{7}$}\\int_{N}^{M}{\\frac{\\overline{B}_{n}\\left(x\\right)}{x^{s}}\\;dx}\\]"
      ],
      "text/plain": [
       "                          M\n",
       "                         /\n",
       "                         [  periodic_bernpoly(x, n)\n",
       "(%o7)                    I  ----------------------- dx\n",
       "                         ]             s\n",
       "                         /            x\n",
       "                          N"
      ],
      "text/x-maxima": [
       "'integrate(periodic_bernpoly(x,n)/x^s,x,N,M)"
      ]
     },
     "execution_count": 4,
     "metadata": {},
     "output_type": "execute_result"
    }
   ],
   "source": [
    "integrate(periodic_bernpoly(x,n)/x^s,x,N,M);"
   ]
  },
  {
   "cell_type": "code",
   "execution_count": 5,
   "metadata": {},
   "outputs": [
    {
     "data": {
      "text/latex": [
       "\\[\\tag{${\\it \\%o}_{8}$}\\int_{N}^{M}{\\frac{\\left| \\overline{B}_{n}\\left(x\\right)\\right| }{x^{s}}\\;dx}\\]"
      ],
      "text/plain": [
       "                       M\n",
       "                      /\n",
       "                      [  abs(periodic_bernpoly(x, n))\n",
       "(%o8)                 I  ---------------------------- dx\n",
       "                      ]                s\n",
       "                      /               x\n",
       "                       N"
      ],
      "text/x-maxima": [
       "'integrate(abs(periodic_bernpoly(x,n))/x^s,x,N,M)"
      ]
     },
     "execution_count": 5,
     "metadata": {},
     "output_type": "execute_result"
    }
   ],
   "source": [
    "INT:integrate(abs(periodic_bernpoly(x,n)/x^s),x,N,M);"
   ]
  },
  {
   "cell_type": "code",
   "execution_count": 6,
   "metadata": {},
   "outputs": [
    {
     "data": {
      "text/latex": [
       "\\[\\tag{${\\it \\%o}_{9}$}\\left[ C>0 \\right] \\]"
      ],
      "text/plain": [
       "(%o9)                               [C > 0]"
      ],
      "text/x-maxima": [
       "[C > 0]"
      ]
     },
     "execution_count": 6,
     "metadata": {},
     "output_type": "execute_result"
    },
    {
     "data": {
      "text/latex": [
       "\\[\\tag{${\\it \\%o}_{10}$}C\\,\\int_{N}^{M}{\\frac{1}{x^{s}}\\;dx}\\]"
      ],
      "text/plain": [
       "                                     M\n",
       "                                    /\n",
       "                                    [  1\n",
       "(%o10)                            C I  -- dx\n",
       "                                    ]   s\n",
       "                                    /  x\n",
       "                                     N"
      ],
      "text/x-maxima": [
       "C*'integrate(1/x^s,x,N,M)"
      ]
     },
     "execution_count": 6,
     "metadata": {},
     "output_type": "execute_result"
    }
   ],
   "source": [
    "assume(C>0);substpart(C,INT,1,1);"
   ]
  },
  {
   "cell_type": "code",
   "execution_count": 7,
   "metadata": {},
   "outputs": [
    {
     "data": {
      "text/latex": [
       "\\[\\tag{${\\it \\%o}_{11}$}\\frac{C\\,N}{N^{s}\\,s-N^{s}}-\\frac{C\\,M}{M^{s}\\,s-M^{s}}\\]"
      ],
      "text/plain": [
       "                                C N         C M\n",
       "(%o11)                       --------- - ---------\n",
       "                              s      s    s      s\n",
       "                             N  s - N    M  s - M"
      ],
      "text/x-maxima": [
       "(C*N)/(N^s*s-N^s)-(C*M)/(M^s*s-M^s)"
      ]
     },
     "execution_count": 7,
     "metadata": {},
     "output_type": "execute_result"
    }
   ],
   "source": [
    "%,nouns,expand;"
   ]
  },
  {
   "cell_type": "code",
   "execution_count": 8,
   "metadata": {},
   "outputs": [
    {
     "data": {
      "text/latex": [
       "\\[\\tag{${\\it \\%o}_{12}$}\\frac{C\\,N^{1-s}}{s-1}-\\frac{C\\,M^{1-s}}{s-1}\\]"
      ],
      "text/plain": [
       "                                 1 - s      1 - s\n",
       "                              C N        C M\n",
       "(%o12)                        -------- - --------\n",
       "                               s - 1      s - 1"
      ],
      "text/x-maxima": [
       "(C*N^(1-s))/(s-1)-(C*M^(1-s))/(s-1)"
      ]
     },
     "execution_count": 8,
     "metadata": {},
     "output_type": "execute_result"
    }
   ],
   "source": [
    "map(factor,%);"
   ]
  },
  {
   "cell_type": "code",
   "execution_count": 9,
   "metadata": {},
   "outputs": [
    {
     "data": {
      "text/latex": [
       "\\[\\tag{${\\it \\%o}_{13}$}0\\]"
      ],
      "text/plain": [
       "(%o13)                                 0"
      ],
      "text/x-maxima": [
       "0"
      ]
     },
     "execution_count": 9,
     "metadata": {},
     "output_type": "execute_result"
    }
   ],
   "source": [
    "limit(limit(%,N,inf),M,inf);"
   ]
  },
  {
   "cell_type": "code",
   "execution_count": null,
   "metadata": {},
   "outputs": [],
   "source": []
  }
 ],
 "metadata": {
  "kernelspec": {
   "display_name": "Maxima",
   "language": "maxima",
   "name": "maxima"
  },
  "language_info": {
   "codemirror_mode": "maxima",
   "file_extension": ".mac",
   "mimetype": "text/x-maxima",
   "name": "maxima",
   "pygments_lexer": "maxima",
   "version": "5.43.2"
  }
 },
 "nbformat": 4,
 "nbformat_minor": 4
}
