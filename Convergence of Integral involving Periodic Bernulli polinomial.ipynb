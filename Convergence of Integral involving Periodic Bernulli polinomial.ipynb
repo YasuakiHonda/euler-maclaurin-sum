{
 "cells": [
  {
   "cell_type": "markdown",
   "metadata": {},
   "source": [
    "# Evaluation of an integral involving Periodic Bernulli Polynomial\n",
    "### written by Yasuaki Honda @ gmail doc com\n",
    "\n",
    "Reference: Improper Integrals, R. C. Daileda, http://ramanujan.math.trinity.edu/rdaileda/teach/m4342f10/improper_integrals.pdf"
   ]
  },
  {
   "cell_type": "code",
   "execution_count": 21,
   "metadata": {},
   "outputs": [
    {
     "data": {
      "text/latex": [
       "\\[\\tag{${\\it \\%o}_{28}$}\\left[ \\mbox{ /root/quicklisp/dists/quicklisp/archives/euler-maclaurin-sum-master.gz } , \\mbox{ /root/quicklisp/local-projects/YasuakiHonda-euler-maclaurin-sum-97c31b3/ } \\right] \\]"
      ],
      "text/plain": [
       "(%o28) \n",
       "[/root/quicklisp/dists/quicklisp/archives/euler-maclaurin-sum-master.gz, \n",
       "/root/quicklisp/local-projects/YasuakiHonda-euler-maclaurin-sum-97c31b3/]"
      ],
      "text/x-maxima": [
       "[\"/root/quicklisp/dists/quicklisp/archives/euler-maclaurin-sum-master.gz\",\n",
       " \"/root/quicklisp/local-projects/YasuakiHonda-euler-maclaurin-sum-97c31b3/\"]"
      ]
     },
     "execution_count": 21,
     "metadata": {},
     "output_type": "execute_result"
    }
   ],
   "source": [
    "install_github(\"YasuakiHonda\",\"euler-maclaurin-sum\",\"master\");"
   ]
  },
  {
   "cell_type": "code",
   "execution_count": 22,
   "metadata": {},
   "outputs": [
    {
     "data": {
      "text/latex": [
       "\\[\\tag{${\\it \\%o}_{29}$}\\#<LOAD-SOURCE-OP >\\]"
      ],
      "text/plain": [
       "(%o29)                        #<LOAD-SOURCE-OP >"
      ],
      "text/x-maxima": [
       "\\#\\<LOAD\\-SOURCE\\-OP\\ \\>"
      ]
     },
     "execution_count": 22,
     "metadata": {},
     "output_type": "execute_result"
    }
   ],
   "source": [
    "asdf_load_source(\"euler-maclaurin-sum\");"
   ]
  },
  {
   "cell_type": "code",
   "execution_count": 23,
   "metadata": {},
   "outputs": [
    {
     "data": {
      "text/latex": [
       "\\[\\tag{${\\it \\%o}_{30}$}\\left[ {\\it redundant} \\right] \\]"
      ],
      "text/plain": [
       "(%o30)                            [redundant]"
      ],
      "text/x-maxima": [
       "[redundant]"
      ]
     },
     "execution_count": 23,
     "metadata": {},
     "output_type": "execute_result"
    },
    {
     "data": {
      "text/latex": [
       "\\[\\tag{${\\it \\%o}_{31}$}\\left[ {\\it redundant} \\right] \\]"
      ],
      "text/plain": [
       "(%o31)                            [redundant]"
      ],
      "text/x-maxima": [
       "[redundant]"
      ]
     },
     "execution_count": 23,
     "metadata": {},
     "output_type": "execute_result"
    },
    {
     "data": {
      "text/latex": [
       "\\[\\tag{${\\it \\%o}_{32}$}\\left[ {\\it redundant} \\right] \\]"
      ],
      "text/plain": [
       "(%o32)                            [redundant]"
      ],
      "text/x-maxima": [
       "[redundant]"
      ]
     },
     "execution_count": 23,
     "metadata": {},
     "output_type": "execute_result"
    },
    {
     "data": {
      "text/latex": [
       "\\[\\tag{${\\it \\%o}_{33}$}\\left[ {\\it redundant} \\right] \\]"
      ],
      "text/plain": [
       "(%o33)                            [redundant]"
      ],
      "text/x-maxima": [
       "[redundant]"
      ]
     },
     "execution_count": 23,
     "metadata": {},
     "output_type": "execute_result"
    }
   ],
   "source": [
    "assume(M>N);assume(N>=1);assume(s>1);assume(x>=N);"
   ]
  },
  {
   "cell_type": "code",
   "execution_count": 24,
   "metadata": {},
   "outputs": [
    {
     "data": {
      "text/latex": [
       "\\[\\tag{${\\it \\%o}_{34}$}\\int_{N}^{M}{\\frac{\\overline{B}_{n}\\left(x\\right)}{x^{s}}\\;dx}\\]"
      ],
      "text/plain": [
       "                          M\n",
       "                         /\n",
       "                         [  periodic_bernpoly(x, n)\n",
       "(%o34)                   I  ----------------------- dx\n",
       "                         ]             s\n",
       "                         /            x\n",
       "                          N"
      ],
      "text/x-maxima": [
       "'integrate(periodic_bernpoly(x,n)/x^s,x,N,M)"
      ]
     },
     "execution_count": 24,
     "metadata": {},
     "output_type": "execute_result"
    }
   ],
   "source": [
    "integrate(periodic_bernpoly(x,n)/x^s,x,N,M);"
   ]
  },
  {
   "cell_type": "code",
   "execution_count": 25,
   "metadata": {},
   "outputs": [
    {
     "data": {
      "text/latex": [
       "\\[\\tag{${\\it \\%o}_{35}$}\\int_{N}^{M}{\\frac{\\left| \\overline{B}_{n}\\left(x\\right)\\right| }{x^{s}}\\;dx}\\]"
      ],
      "text/plain": [
       "                       M\n",
       "                      /\n",
       "                      [  abs(periodic_bernpoly(x, n))\n",
       "(%o35)                I  ---------------------------- dx\n",
       "                      ]                s\n",
       "                      /               x\n",
       "                       N"
      ],
      "text/x-maxima": [
       "'integrate(abs(periodic_bernpoly(x,n))/x^s,x,N,M)"
      ]
     },
     "execution_count": 25,
     "metadata": {},
     "output_type": "execute_result"
    }
   ],
   "source": [
    "integrate(abs(periodic_bernpoly(x,n)/x^s),x,N,M);"
   ]
  },
  {
   "cell_type": "code",
   "execution_count": 26,
   "metadata": {},
   "outputs": [
    {
     "data": {
      "text/latex": [
       "\\[\\tag{${\\it \\%o}_{36}$}\\left[ {\\it redundant} \\right] \\]"
      ],
      "text/plain": [
       "(%o36)                            [redundant]"
      ],
      "text/x-maxima": [
       "[redundant]"
      ]
     },
     "execution_count": 26,
     "metadata": {},
     "output_type": "execute_result"
    },
    {
     "data": {
      "text/latex": [
       "\\[\\tag{${\\it \\%o}_{37}$}C\\,\\int_{N}^{M}{\\frac{1}{x^{s}}\\;dx}\\]"
      ],
      "text/plain": [
       "                                     M\n",
       "                                    /\n",
       "                                    [  1\n",
       "(%o37)                            C I  -- dx\n",
       "                                    ]   s\n",
       "                                    /  x\n",
       "                                     N"
      ],
      "text/x-maxima": [
       "C*'integrate(1/x^s,x,N,M)"
      ]
     },
     "execution_count": 26,
     "metadata": {},
     "output_type": "execute_result"
    }
   ],
   "source": [
    "assume(C>0);substpart(C,INT,1,1);"
   ]
  },
  {
   "cell_type": "code",
   "execution_count": 27,
   "metadata": {},
   "outputs": [
    {
     "data": {
      "text/latex": [
       "\\[\\tag{${\\it \\%o}_{38}$}\\frac{C\\,N}{N^{s}\\,s-N^{s}}-\\frac{C\\,M}{M^{s}\\,s-M^{s}}\\]"
      ],
      "text/plain": [
       "                                C N         C M\n",
       "(%o38)                       --------- - ---------\n",
       "                              s      s    s      s\n",
       "                             N  s - N    M  s - M"
      ],
      "text/x-maxima": [
       "(C*N)/(N^s*s-N^s)-(C*M)/(M^s*s-M^s)"
      ]
     },
     "execution_count": 27,
     "metadata": {},
     "output_type": "execute_result"
    }
   ],
   "source": [
    "%,nouns,expand;"
   ]
  },
  {
   "cell_type": "code",
   "execution_count": 28,
   "metadata": {},
   "outputs": [
    {
     "data": {
      "text/latex": [
       "\\[\\tag{${\\it \\%o}_{39}$}\\frac{C\\,N^{1-s}}{s-1}-\\frac{C\\,M^{1-s}}{s-1}\\]"
      ],
      "text/plain": [
       "                                 1 - s      1 - s\n",
       "                              C N        C M\n",
       "(%o39)                        -------- - --------\n",
       "                               s - 1      s - 1"
      ],
      "text/x-maxima": [
       "(C*N^(1-s))/(s-1)-(C*M^(1-s))/(s-1)"
      ]
     },
     "execution_count": 28,
     "metadata": {},
     "output_type": "execute_result"
    }
   ],
   "source": [
    "map(factor,%);"
   ]
  },
  {
   "cell_type": "code",
   "execution_count": null,
   "metadata": {},
   "outputs": [],
   "source": []
  }
 ],
 "metadata": {
  "kernelspec": {
   "display_name": "Maxima",
   "language": "maxima",
   "name": "maxima"
  },
  "language_info": {
   "codemirror_mode": "maxima",
   "file_extension": ".mac",
   "mimetype": "text/x-maxima",
   "name": "maxima",
   "pygments_lexer": "maxima",
   "version": "5.43.2"
  }
 },
 "nbformat": 4,
 "nbformat_minor": 4
}
