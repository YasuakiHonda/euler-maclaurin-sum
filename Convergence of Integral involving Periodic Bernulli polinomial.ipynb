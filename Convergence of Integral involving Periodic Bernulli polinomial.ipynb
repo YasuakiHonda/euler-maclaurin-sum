{
 "cells": [
  {
   "cell_type": "markdown",
   "metadata": {},
   "source": [
    "# Evaluation of an improper integral involving Periodic Bernulli Polynomial\n",
    "### written by Yasuaki Honda @ gmail doc com\n",
    "\n",
    "Reference: Improper Integrals, R. C. Daileda, http://ramanujan.math.trinity.edu/rdaileda/teach/m4342f10/improper_integrals.pdf"
   ]
  },
  {
   "cell_type": "code",
   "execution_count": 1,
   "metadata": {},
   "outputs": [],
   "source": [
    "install_github(\"YasuakiHonda\",\"euler-maclaurin-sum\",\"master\")$"
   ]
  },
  {
   "cell_type": "code",
   "execution_count": 2,
   "metadata": {},
   "outputs": [],
   "source": [
    "asdf_load_source(\"euler-maclaurin-sum\")$"
   ]
  },
  {
   "cell_type": "code",
   "execution_count": 3,
   "metadata": {},
   "outputs": [
    {
     "data": {
      "text/latex": [
       "\\[\\tag{${\\it \\%o}_{3}$}\\left[ \\left[ M>N \\right]  , \\left[ N\\geq 1 \\right]  , \\left[ s>1 \\right]  , \\left[ x\\geq N \\right]  \\right] \\]"
      ],
      "text/plain": [
       "(%o3)               [[M > N], [N >= 1], [s > 1], [x >= N]]"
      ],
      "text/x-maxima": [
       "[[M > N],[N >= 1],[s > 1],[x >= N]]"
      ]
     },
     "execution_count": 3,
     "metadata": {},
     "output_type": "execute_result"
    }
   ],
   "source": [
    "[assume(M>N),assume(N>=1),assume(s>1),assume(x>=N)];"
   ]
  },
  {
   "cell_type": "code",
   "execution_count": 4,
   "metadata": {},
   "outputs": [
    {
     "data": {
      "text/latex": [
       "\\[\\tag{${\\it \\%o}_{4}$}\\int_{N}^{M}{\\frac{\\overline{B}_{n}\\left(x\\right)}{x^{s}}\\;dx}\\]"
      ],
      "text/plain": [
       "                          M\n",
       "                         /\n",
       "                         [  periodic_bernpoly(x, n)\n",
       "(%o4)                    I  ----------------------- dx\n",
       "                         ]             s\n",
       "                         /            x\n",
       "                          N"
      ],
      "text/x-maxima": [
       "'integrate(periodic_bernpoly(x,n)/x^s,x,N,M)"
      ]
     },
     "execution_count": 4,
     "metadata": {},
     "output_type": "execute_result"
    }
   ],
   "source": [
    "INT0:integrate(periodic_bernpoly(x,n)/x^s,x,N,M);"
   ]
  },
  {
   "cell_type": "code",
   "execution_count": 5,
   "metadata": {},
   "outputs": [
    {
     "data": {
      "text/latex": [
       "\\[\\tag{${\\it \\%o}_{5}$}\\int_{N}^{M}{\\frac{\\left| \\overline{B}_{n}\\left(x\\right)\\right| }{x^{s}}\\;dx}\\geq \\left| \\int_{N}^{M}{\\frac{\\overline{B}_{n}\\left(x\\right)}{x^{s}}\\;dx}\\right| \\]"
      ],
      "text/plain": [
       "       M                                    ! M                           !\n",
       "      /                                     !/                            !\n",
       "      [  abs(periodic_bernpoly(x, n))       ![  periodic_bernpoly(x, n)   !\n",
       "(%o5) I  ---------------------------- dx >= !I  ----------------------- dx!\n",
       "      ]                s                    !]             s              !\n",
       "      /               x                     !/            x               !\n",
       "       N                                    ! N                           !"
      ],
      "text/x-maxima": [
       "'integrate(abs(periodic_bernpoly(x,n))/x^s,x,N,M)\n",
       "  >= abs('integrate(periodic_bernpoly(x,n)/x^s,x,N,M))"
      ]
     },
     "execution_count": 5,
     "metadata": {},
     "output_type": "execute_result"
    }
   ],
   "source": [
    "(INT1:integrate(abs(periodic_bernpoly(x,n)/x^s),x,N,M))>=abs(INT0);"
   ]
  },
  {
   "cell_type": "code",
   "execution_count": 6,
   "metadata": {},
   "outputs": [
    {
     "data": {
      "text/latex": [
       "\\[\\tag{${\\it \\%o}_{6}$}\\left[ C>\\left| \\overline{B}_{n}\\left(x\\right)\\right|  \\right] \\]"
      ],
      "text/plain": [
       "(%o6)                 [C > abs(periodic_bernpoly(x, n))]"
      ],
      "text/x-maxima": [
       "[C > abs(periodic_bernpoly(x,n))]"
      ]
     },
     "execution_count": 6,
     "metadata": {},
     "output_type": "execute_result"
    }
   ],
   "source": [
    "assume(C>part(INT1,1,1));"
   ]
  },
  {
   "cell_type": "code",
   "execution_count": 7,
   "metadata": {},
   "outputs": [
    {
     "data": {
      "text/latex": [
       "\\[\\tag{${\\it \\%o}_{7}$}C\\,\\int_{N}^{M}{\\frac{1}{x^{s}}\\;dx}\\geq \\int_{N}^{M}{\\frac{\\left| \\overline{B}_{n}\\left(x\\right)\\right| }{x^{s}}\\;dx}\\]"
      ],
      "text/plain": [
       "                  M           M\n",
       "                 /           /\n",
       "                 [  1        [  abs(periodic_bernpoly(x, n))\n",
       "(%o7)          C I  -- dx >= I  ---------------------------- dx\n",
       "                 ]   s       ]                s\n",
       "                 /  x        /               x\n",
       "                  N           N"
      ],
      "text/x-maxima": [
       "C*'integrate(1/x^s,x,N,M) >= 'integrate(abs(periodic_bernpoly(x,n))/x^s,x,N,M)"
      ]
     },
     "execution_count": 7,
     "metadata": {},
     "output_type": "execute_result"
    }
   ],
   "source": [
    "substpart(C,INT1,1,1)>=INT1;"
   ]
  },
  {
   "cell_type": "code",
   "execution_count": 8,
   "metadata": {},
   "outputs": [
    {
     "data": {
      "text/latex": [
       "\\[\\tag{${\\it \\%o}_{8}$}\\frac{C\\,N}{N^{s}\\,s-N^{s}}-\\frac{C\\,M}{M^{s}\\,s-M^{s}}\\geq \\int_{N}^{M}{\\frac{\\left| \\overline{B}_{n}\\left(x\\right)\\right| }{x^{s}}\\;dx}\\]"
      ],
      "text/plain": [
       "                                    M\n",
       "                                   /\n",
       "             C N         C M       [  abs(periodic_bernpoly(x, n))\n",
       "(%o8)     --------- - --------- >= I  ---------------------------- dx\n",
       "           s      s    s      s    ]                s\n",
       "          N  s - N    M  s - M     /               x\n",
       "                                    N"
      ],
      "text/x-maxima": [
       "(C*N)/(N^s*s-N^s)-(C*M)/(M^s*s-M^s) >= 'integrate(\n",
       "                                    abs(periodic_bernpoly(x,n))/x^s,x,N,M)"
      ]
     },
     "execution_count": 8,
     "metadata": {},
     "output_type": "execute_result"
    }
   ],
   "source": [
    "%,nouns,expand;"
   ]
  },
  {
   "cell_type": "code",
   "execution_count": 9,
   "metadata": {},
   "outputs": [
    {
     "data": {
      "text/latex": [
       "\\[\\tag{${\\it \\%o}_{9}$}0\\geq \\lim_{N\\rightarrow \\infty }{\\lim_{M\\rightarrow \\infty }{\\int_{N}^{M}{\\frac{\\left| \\overline{B}_{n}\\left(x\\right)\\right| }{x^{s}}\\;dx}}}\\]"
      ],
      "text/plain": [
       "                                   M\n",
       "                                  /\n",
       "                                  [  abs(periodic_bernpoly(x, n))\n",
       "(%o9)     0 >= limit    (limit    I  ---------------------------- dx)\n",
       "               N -> inf  M -> inf ]                s\n",
       "                                  /               x\n",
       "                                   N"
      ],
      "text/x-maxima": [
       "0 >= 'limit('limit('integrate(abs(periodic_bernpoly(x,n))/x^s,x,N,M),M,inf),N,\n",
       "            inf)"
      ]
     },
     "execution_count": 9,
     "metadata": {},
     "output_type": "execute_result"
    }
   ],
   "source": [
    "map(lambda([F],limit(limit(F,M,inf),N,inf)),%);"
   ]
  },
  {
   "cell_type": "code",
   "execution_count": 10,
   "metadata": {},
   "outputs": [
    {
     "data": {
      "text/latex": [
       "\\[\\tag{${\\it \\%o}_{10}$}\\lim_{N\\rightarrow \\infty }{\\lim_{M\\rightarrow \\infty }{\\int_{N}^{M}{\\frac{\\left| \\overline{B}_{n}\\left(x\\right)\\right| }{x^{s}}\\;dx}}}=0\\]"
      ],
      "text/plain": [
       "                              M\n",
       "                             /\n",
       "                             [  abs(periodic_bernpoly(x, n))\n",
       "(%o10)    limit    (limit    I  ---------------------------- dx) = 0\n",
       "          N -> inf  M -> inf ]                s\n",
       "                             /               x\n",
       "                              N"
      ],
      "text/x-maxima": [
       "'limit('limit('integrate(abs(periodic_bernpoly(x,n))/x^s,x,N,M),M,inf),N,inf)\n",
       "  = 0"
      ]
     },
     "execution_count": 10,
     "metadata": {},
     "output_type": "execute_result"
    }
   ],
   "source": [
    "rhs(%)=0;"
   ]
  },
  {
   "cell_type": "code",
   "execution_count": null,
   "metadata": {},
   "outputs": [],
   "source": []
  }
 ],
 "metadata": {
  "kernelspec": {
   "display_name": "Maxima",
   "language": "maxima",
   "name": "maxima"
  },
  "language_info": {
   "codemirror_mode": "maxima",
   "file_extension": ".mac",
   "mimetype": "text/x-maxima",
   "name": "maxima",
   "pygments_lexer": "maxima",
   "version": "5.43.2"
  }
 },
 "nbformat": 4,
 "nbformat_minor": 4
}
